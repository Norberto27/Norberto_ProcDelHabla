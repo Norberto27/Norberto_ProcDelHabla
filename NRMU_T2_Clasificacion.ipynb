{
  "cells": [
    {
      "cell_type": "markdown",
      "metadata": {
        "id": "view-in-github",
        "colab_type": "text"
      },
      "source": [
        "<a href=\"https://colab.research.google.com/github/Norberto27/Norberto_ProcDelHabla/blob/main/NRMU_T2_Clasificacion.ipynb\" target=\"_parent\"><img src=\"https://colab.research.google.com/assets/colab-badge.svg\" alt=\"Open In Colab\"/></a>"
      ]
    },
    {
      "cell_type": "markdown",
      "metadata": {
        "id": "tWHLw4srVlwi"
      },
      "source": [
        "#**1. TÍTULO Y DATOS**\n",
        "\n",
        "#**Título: TEMA 2 - Clasificación - Martín Fierro y Fausto**\n",
        "\n",
        "**Opcion 2**\n",
        "\n",
        "#**2. Autor**\n",
        "\n",
        "##**Desarrollador: Norberto Raul Martearena Urquiza**\n",
        "\n",
        "##**Legajo: 11099**\n",
        "\n",
        "##**Fecha: 20/12/2024**\n"
      ]
    },
    {
      "cell_type": "markdown",
      "source": [
        "#**INTRODUCCION**\n",
        "\n",
        "El objetivo de este notebook es entrenar un modelo de clasificación que sea capaz de determinar si un verso o estrofa pertenece a Martín Fierro o a Fausto (Estanislao López),\n",
        "\n",
        "utilizando técnicas de procesamiento de lenguaje natural (PLN) y modelos de aprendizaje automático."
      ],
      "metadata": {
        "id": "cbbP4AdODS88"
      }
    },
    {
      "cell_type": "markdown",
      "metadata": {
        "id": "nFcu5hCtKZPJ"
      },
      "source": [
        "#**Librerías y Funciones Principales**\n",
        "\n",
        "Como inicio, voy a instalar las librerias que en principio voy a utilizar y luego ire incorporando otras a medida que sean requeridas\n",
        "\n",
        "**sentence-transformers**\n",
        "\n",
        "*Descripción:* Librería para generar representaciones numéricas (embeddings) de oraciones o textos, útil en tareas de similitud semántica, búsqueda y clustering.\n",
        "\n",
        "*Funciones principales:*\n",
        "\n",
        "SentenceTransformer(model_name): Carga un modelo preentrenado.\n",
        "\n",
        "encode(sentences): Convierte oraciones a vectores de alta dimensionalidad.\n",
        "\n",
        "util.pytorch_cos_sim(vec1, vec2): Calcula la similitud coseno entre embeddings.\n",
        "\n",
        "**PyPDF2**\n",
        "\n",
        "*Descripción:* Librería para manipular archivos PDF: lectura, extracción de texto, fusión, división, etc.\n",
        "\n",
        "*Funciones principales:*\n",
        "\n",
        "PdfReader(file): Abre un archivo PDF para lectura.\n",
        "reader.pages: Accede a las páginas del PDF.\n",
        "\n",
        "page.extract_text(): Extrae el texto de una página.\n",
        "\n",
        "PdfWriter: Crea un nuevo archivo PDF o modifica uno existente.\n",
        "\n",
        "**matplotlib**\n",
        "\n",
        "*Descripción:* Librería para crear visualizaciones en 2D, como gráficos de líneas, barras, histogramas y más.\n",
        "\n",
        "*Funciones principales:*\n",
        "\n",
        "pyplot.plot(x, y): Crea un gráfico de líneas.\n",
        "\n",
        "pyplot.bar(x, y): Genera un gráfico de barras.\n",
        "\n",
        "pyplot.scatter(x, y): Crea un gráfico de dispersión.\n",
        "\n",
        "pyplot.show(): Muestra el gráfico.\n",
        "\n"
      ]
    },
    {
      "cell_type": "code",
      "execution_count": null,
      "metadata": {
        "colab": {
          "base_uri": "https://localhost:8080/"
        },
        "id": "KfB2tq432X3f",
        "outputId": "46116225-91b9-4bdb-a98b-268427c4c1f2"
      },
      "outputs": [
        {
          "output_type": "stream",
          "name": "stdout",
          "text": [
            "Requirement already satisfied: sentence-transformers in /usr/local/lib/python3.10/dist-packages (3.3.1)\n",
            "Collecting PyPDF2\n",
            "  Downloading pypdf2-3.0.1-py3-none-any.whl.metadata (6.8 kB)\n",
            "Requirement already satisfied: matplotlib in /usr/local/lib/python3.10/dist-packages (3.8.0)\n",
            "Requirement already satisfied: transformers<5.0.0,>=4.41.0 in /usr/local/lib/python3.10/dist-packages (from sentence-transformers) (4.47.0)\n",
            "Requirement already satisfied: tqdm in /usr/local/lib/python3.10/dist-packages (from sentence-transformers) (4.67.1)\n",
            "Requirement already satisfied: torch>=1.11.0 in /usr/local/lib/python3.10/dist-packages (from sentence-transformers) (2.5.1+cu121)\n",
            "Requirement already satisfied: scikit-learn in /usr/local/lib/python3.10/dist-packages (from sentence-transformers) (1.6.0)\n",
            "Requirement already satisfied: scipy in /usr/local/lib/python3.10/dist-packages (from sentence-transformers) (1.13.1)\n",
            "Requirement already satisfied: huggingface-hub>=0.20.0 in /usr/local/lib/python3.10/dist-packages (from sentence-transformers) (0.27.0)\n",
            "Requirement already satisfied: Pillow in /usr/local/lib/python3.10/dist-packages (from sentence-transformers) (11.0.0)\n",
            "Requirement already satisfied: contourpy>=1.0.1 in /usr/local/lib/python3.10/dist-packages (from matplotlib) (1.3.1)\n",
            "Requirement already satisfied: cycler>=0.10 in /usr/local/lib/python3.10/dist-packages (from matplotlib) (0.12.1)\n",
            "Requirement already satisfied: fonttools>=4.22.0 in /usr/local/lib/python3.10/dist-packages (from matplotlib) (4.55.3)\n",
            "Requirement already satisfied: kiwisolver>=1.0.1 in /usr/local/lib/python3.10/dist-packages (from matplotlib) (1.4.7)\n",
            "Requirement already satisfied: numpy<2,>=1.21 in /usr/local/lib/python3.10/dist-packages (from matplotlib) (1.26.4)\n",
            "Requirement already satisfied: packaging>=20.0 in /usr/local/lib/python3.10/dist-packages (from matplotlib) (24.2)\n",
            "Requirement already satisfied: pyparsing>=2.3.1 in /usr/local/lib/python3.10/dist-packages (from matplotlib) (3.2.0)\n",
            "Requirement already satisfied: python-dateutil>=2.7 in /usr/local/lib/python3.10/dist-packages (from matplotlib) (2.8.2)\n",
            "Requirement already satisfied: filelock in /usr/local/lib/python3.10/dist-packages (from huggingface-hub>=0.20.0->sentence-transformers) (3.16.1)\n",
            "Requirement already satisfied: fsspec>=2023.5.0 in /usr/local/lib/python3.10/dist-packages (from huggingface-hub>=0.20.0->sentence-transformers) (2024.10.0)\n",
            "Requirement already satisfied: pyyaml>=5.1 in /usr/local/lib/python3.10/dist-packages (from huggingface-hub>=0.20.0->sentence-transformers) (6.0.2)\n",
            "Requirement already satisfied: requests in /usr/local/lib/python3.10/dist-packages (from huggingface-hub>=0.20.0->sentence-transformers) (2.32.3)\n",
            "Requirement already satisfied: typing-extensions>=3.7.4.3 in /usr/local/lib/python3.10/dist-packages (from huggingface-hub>=0.20.0->sentence-transformers) (4.12.2)\n",
            "Requirement already satisfied: six>=1.5 in /usr/local/lib/python3.10/dist-packages (from python-dateutil>=2.7->matplotlib) (1.17.0)\n",
            "Requirement already satisfied: networkx in /usr/local/lib/python3.10/dist-packages (from torch>=1.11.0->sentence-transformers) (3.4.2)\n",
            "Requirement already satisfied: jinja2 in /usr/local/lib/python3.10/dist-packages (from torch>=1.11.0->sentence-transformers) (3.1.4)\n",
            "Requirement already satisfied: sympy==1.13.1 in /usr/local/lib/python3.10/dist-packages (from torch>=1.11.0->sentence-transformers) (1.13.1)\n",
            "Requirement already satisfied: mpmath<1.4,>=1.1.0 in /usr/local/lib/python3.10/dist-packages (from sympy==1.13.1->torch>=1.11.0->sentence-transformers) (1.3.0)\n",
            "Requirement already satisfied: regex!=2019.12.17 in /usr/local/lib/python3.10/dist-packages (from transformers<5.0.0,>=4.41.0->sentence-transformers) (2024.11.6)\n",
            "Requirement already satisfied: tokenizers<0.22,>=0.21 in /usr/local/lib/python3.10/dist-packages (from transformers<5.0.0,>=4.41.0->sentence-transformers) (0.21.0)\n",
            "Requirement already satisfied: safetensors>=0.4.1 in /usr/local/lib/python3.10/dist-packages (from transformers<5.0.0,>=4.41.0->sentence-transformers) (0.4.5)\n",
            "Requirement already satisfied: joblib>=1.2.0 in /usr/local/lib/python3.10/dist-packages (from scikit-learn->sentence-transformers) (1.4.2)\n",
            "Requirement already satisfied: threadpoolctl>=3.1.0 in /usr/local/lib/python3.10/dist-packages (from scikit-learn->sentence-transformers) (3.5.0)\n",
            "Requirement already satisfied: MarkupSafe>=2.0 in /usr/local/lib/python3.10/dist-packages (from jinja2->torch>=1.11.0->sentence-transformers) (3.0.2)\n",
            "Requirement already satisfied: charset-normalizer<4,>=2 in /usr/local/lib/python3.10/dist-packages (from requests->huggingface-hub>=0.20.0->sentence-transformers) (3.4.0)\n",
            "Requirement already satisfied: idna<4,>=2.5 in /usr/local/lib/python3.10/dist-packages (from requests->huggingface-hub>=0.20.0->sentence-transformers) (3.10)\n",
            "Requirement already satisfied: urllib3<3,>=1.21.1 in /usr/local/lib/python3.10/dist-packages (from requests->huggingface-hub>=0.20.0->sentence-transformers) (2.2.3)\n",
            "Requirement already satisfied: certifi>=2017.4.17 in /usr/local/lib/python3.10/dist-packages (from requests->huggingface-hub>=0.20.0->sentence-transformers) (2024.12.14)\n",
            "Downloading pypdf2-3.0.1-py3-none-any.whl (232 kB)\n",
            "\u001b[2K   \u001b[90m━━━━━━━━━━━━━━━━━━━━━━━━━━━━━━━━━━━━━━━━\u001b[0m \u001b[32m232.6/232.6 kB\u001b[0m \u001b[31m4.1 MB/s\u001b[0m eta \u001b[36m0:00:00\u001b[0m\n",
            "\u001b[?25hInstalling collected packages: PyPDF2\n",
            "Successfully installed PyPDF2-3.0.1\n"
          ]
        }
      ],
      "source": [
        "!pip install sentence-transformers PyPDF2 matplotlib"
      ]
    },
    {
      "cell_type": "markdown",
      "metadata": {
        "id": "lohyNyX1iYXk"
      },
      "source": [
        "Bajo una libreria que me permite trabajar con lenguaje natural. Proporciona modulos que permiten:\n",
        "\n",
        "Tokenización: Dividir el texto en palabras (tokens) o en oraciones.\n",
        "\n",
        "Lematización y stemming: Normalizar palabras para encontrar su forma base\n",
        "Entre Otros\n"
      ]
    },
    {
      "cell_type": "markdown",
      "metadata": {
        "id": "z7gWMeFpj8CO"
      },
      "source": [
        "punkt: Es un modelo de tokenización incorporado en NLTK. Su función principal es identificar los límites de las oraciones y dividir un texto en oraciones o palabras sin requerir un modelo de entrenamiento externo."
      ]
    },
    {
      "cell_type": "code",
      "execution_count": null,
      "metadata": {
        "colab": {
          "base_uri": "https://localhost:8080/"
        },
        "id": "MW2UofwWs1i5",
        "outputId": "09f7ac4d-4dd7-4fbe-a462-3146ee12f998"
      },
      "outputs": [
        {
          "output_type": "stream",
          "name": "stdout",
          "text": [
            "Requirement already satisfied: nltk in /usr/local/lib/python3.10/dist-packages (3.9.1)\n",
            "Requirement already satisfied: click in /usr/local/lib/python3.10/dist-packages (from nltk) (8.1.7)\n",
            "Requirement already satisfied: joblib in /usr/local/lib/python3.10/dist-packages (from nltk) (1.4.2)\n",
            "Requirement already satisfied: regex>=2021.8.3 in /usr/local/lib/python3.10/dist-packages (from nltk) (2024.11.6)\n",
            "Requirement already satisfied: tqdm in /usr/local/lib/python3.10/dist-packages (from nltk) (4.67.1)\n"
          ]
        },
        {
          "output_type": "stream",
          "name": "stderr",
          "text": [
            "[nltk_data] Downloading package punkt to /root/nltk_data...\n",
            "[nltk_data]   Unzipping tokenizers/punkt.zip.\n"
          ]
        },
        {
          "output_type": "execute_result",
          "data": {
            "text/plain": [
              "True"
            ]
          },
          "metadata": {},
          "execution_count": 2
        }
      ],
      "source": [
        "!pip install --upgrade nltk\n",
        "import nltk\n",
        "nltk.download('punkt')\n"
      ]
    },
    {
      "cell_type": "code",
      "execution_count": null,
      "metadata": {
        "colab": {
          "base_uri": "https://localhost:8080/"
        },
        "id": "AiWj40LGurlP",
        "outputId": "cde4d449-fc85-4b76-d0b1-703ec996b3f1"
      },
      "outputs": [
        {
          "output_type": "stream",
          "name": "stdout",
          "text": [
            "['punkt.zip', 'punkt']\n"
          ]
        }
      ],
      "source": [
        "import os\n",
        "print(os.listdir(nltk.data.find(\"tokenizers\")))\n"
      ]
    },
    {
      "cell_type": "markdown",
      "metadata": {
        "id": "H7fBRcxT_32C"
      },
      "source": [
        "Procedo a la carga del martin Fierro"
      ]
    },
    {
      "cell_type": "code",
      "execution_count": null,
      "metadata": {
        "colab": {
          "base_uri": "https://localhost:8080/"
        },
        "id": "MDngOGZ4_759",
        "outputId": "2de86336-b059-4478-c42c-0cb85dcdad15"
      },
      "outputs": [
        {
          "output_type": "stream",
          "name": "stdout",
          "text": [
            "Primeros versos del Martín Fierro:\n",
            "Verso 1: Aquí me pongo a cantar\n",
            "Verso 2: al compás de la vigüela,\n",
            "Verso 3: que el hombre que lo desvela\n",
            "Verso 4: una pena estrordinaria,\n",
            "Verso 5: como la ave solitaria\n"
          ]
        }
      ],
      "source": [
        "# Función actualizada para limpiar y dividir en versos\n",
        "from PyPDF2 import PdfReader\n",
        "import re\n",
        "import requests\n",
        "\n",
        "def limpiar_y_dividir_en_versos(texto):\n",
        "    inicio_poema = \"Aquí me pongo a cantar\"\n",
        "    if inicio_poema in texto:\n",
        "        texto = texto.split(inicio_poema, 1)[1]\n",
        "        texto = inicio_poema + texto  # Asegurar que comienza correctamente\n",
        "\n",
        "    # Limpieza del texto\n",
        "    texto = re.sub(r'Recursos de dominio público.*?Página \\d+', '', texto, flags=re.DOTALL)\n",
        "    texto = re.sub(r'El gaucho Martín Fierro', '', texto, flags=re.IGNORECASE)\n",
        "    texto = re.sub(r'José Hernández', '', texto, flags=re.IGNORECASE)\n",
        "    texto = re.sub(r'Imágenes de dominio público.*', '', texto, flags=re.DOTALL)\n",
        "    texto = re.sub(r'\\b(I|II|III|IV|V|VI|VII|VIII|IX|X|XI|XII|XIII)\\b', '', texto)\n",
        "    texto = re.sub(r'\\b(página|Página)\\b.*?\\d+', '', texto)\n",
        "    texto = re.sub(r'\\n+', '\\n', texto).strip()\n",
        "\n",
        "    # Dividir en versos individuales\n",
        "    versos = [linea.strip() for linea in texto.split(\"\\n\") if linea.strip()]\n",
        "    return versos\n",
        "\n",
        "# Descargar y leer el poema\n",
        "url = \"https://www.argentina.gob.ar/sites/default/files/hernandez_jose_-_el_gaucho_martin_fierro.pdf\"\n",
        "response = requests.get(url)\n",
        "\n",
        "# Guardar el PDF\n",
        "with open(\"martin_fierro.pdf\", \"wb\") as f:\n",
        "    f.write(response.content)\n",
        "\n",
        "# Procesar el texo\n",
        "# aqui extraemos el texto, convierte todo el textoen una lista de cadenas de cada pagina\n",
        "# con join, combinamos estas cadenas en una unica cadena\n",
        "reader_mf = PdfReader(\"martin_fierro.pdf\")\n",
        "texto_mf = \" \".join([page.extract_text() for page in reader_mf.pages])\n",
        "#limpiamos el texto y dividimos el texto en versos\n",
        "versos_mf = limpiar_y_dividir_en_versos(texto_mf)\n",
        "\n",
        "# Imprimir algunos versos para verificar\n",
        "print(\"Primeros versos del Martín Fierro:\")\n",
        "for i, verso in enumerate(versos_mf[:5]):\n",
        "    print(f\"Verso {i+1}: {verso}\")\n"
      ]
    },
    {
      "cell_type": "markdown",
      "metadata": {
        "id": "-OxLoS5i7Fup"
      },
      "source": [
        "cargo en el notebook, el otro texto (Fausto en este caso), cargado en mi computadora previamente desde el link  https://www.cervantesvirtual.com/obra/fausto-seguido-de-poesias-completas/"
      ]
    },
    {
      "cell_type": "code",
      "execution_count": null,
      "metadata": {
        "colab": {
          "base_uri": "https://localhost:8080/",
          "height": 73
        },
        "id": "02bQFyXHyMDv",
        "outputId": "f667ad12-fe92-455a-9b92-37e4007bc65a"
      },
      "outputs": [
        {
          "output_type": "display_data",
          "data": {
            "text/plain": [
              "<IPython.core.display.HTML object>"
            ],
            "text/html": [
              "\n",
              "     <input type=\"file\" id=\"files-00f5e554-58da-47b0-82bd-dd66524eba6b\" name=\"files[]\" multiple disabled\n",
              "        style=\"border:none\" />\n",
              "     <output id=\"result-00f5e554-58da-47b0-82bd-dd66524eba6b\">\n",
              "      Upload widget is only available when the cell has been executed in the\n",
              "      current browser session. Please rerun this cell to enable.\n",
              "      </output>\n",
              "      <script>// Copyright 2017 Google LLC\n",
              "//\n",
              "// Licensed under the Apache License, Version 2.0 (the \"License\");\n",
              "// you may not use this file except in compliance with the License.\n",
              "// You may obtain a copy of the License at\n",
              "//\n",
              "//      http://www.apache.org/licenses/LICENSE-2.0\n",
              "//\n",
              "// Unless required by applicable law or agreed to in writing, software\n",
              "// distributed under the License is distributed on an \"AS IS\" BASIS,\n",
              "// WITHOUT WARRANTIES OR CONDITIONS OF ANY KIND, either express or implied.\n",
              "// See the License for the specific language governing permissions and\n",
              "// limitations under the License.\n",
              "\n",
              "/**\n",
              " * @fileoverview Helpers for google.colab Python module.\n",
              " */\n",
              "(function(scope) {\n",
              "function span(text, styleAttributes = {}) {\n",
              "  const element = document.createElement('span');\n",
              "  element.textContent = text;\n",
              "  for (const key of Object.keys(styleAttributes)) {\n",
              "    element.style[key] = styleAttributes[key];\n",
              "  }\n",
              "  return element;\n",
              "}\n",
              "\n",
              "// Max number of bytes which will be uploaded at a time.\n",
              "const MAX_PAYLOAD_SIZE = 100 * 1024;\n",
              "\n",
              "function _uploadFiles(inputId, outputId) {\n",
              "  const steps = uploadFilesStep(inputId, outputId);\n",
              "  const outputElement = document.getElementById(outputId);\n",
              "  // Cache steps on the outputElement to make it available for the next call\n",
              "  // to uploadFilesContinue from Python.\n",
              "  outputElement.steps = steps;\n",
              "\n",
              "  return _uploadFilesContinue(outputId);\n",
              "}\n",
              "\n",
              "// This is roughly an async generator (not supported in the browser yet),\n",
              "// where there are multiple asynchronous steps and the Python side is going\n",
              "// to poll for completion of each step.\n",
              "// This uses a Promise to block the python side on completion of each step,\n",
              "// then passes the result of the previous step as the input to the next step.\n",
              "function _uploadFilesContinue(outputId) {\n",
              "  const outputElement = document.getElementById(outputId);\n",
              "  const steps = outputElement.steps;\n",
              "\n",
              "  const next = steps.next(outputElement.lastPromiseValue);\n",
              "  return Promise.resolve(next.value.promise).then((value) => {\n",
              "    // Cache the last promise value to make it available to the next\n",
              "    // step of the generator.\n",
              "    outputElement.lastPromiseValue = value;\n",
              "    return next.value.response;\n",
              "  });\n",
              "}\n",
              "\n",
              "/**\n",
              " * Generator function which is called between each async step of the upload\n",
              " * process.\n",
              " * @param {string} inputId Element ID of the input file picker element.\n",
              " * @param {string} outputId Element ID of the output display.\n",
              " * @return {!Iterable<!Object>} Iterable of next steps.\n",
              " */\n",
              "function* uploadFilesStep(inputId, outputId) {\n",
              "  const inputElement = document.getElementById(inputId);\n",
              "  inputElement.disabled = false;\n",
              "\n",
              "  const outputElement = document.getElementById(outputId);\n",
              "  outputElement.innerHTML = '';\n",
              "\n",
              "  const pickedPromise = new Promise((resolve) => {\n",
              "    inputElement.addEventListener('change', (e) => {\n",
              "      resolve(e.target.files);\n",
              "    });\n",
              "  });\n",
              "\n",
              "  const cancel = document.createElement('button');\n",
              "  inputElement.parentElement.appendChild(cancel);\n",
              "  cancel.textContent = 'Cancel upload';\n",
              "  const cancelPromise = new Promise((resolve) => {\n",
              "    cancel.onclick = () => {\n",
              "      resolve(null);\n",
              "    };\n",
              "  });\n",
              "\n",
              "  // Wait for the user to pick the files.\n",
              "  const files = yield {\n",
              "    promise: Promise.race([pickedPromise, cancelPromise]),\n",
              "    response: {\n",
              "      action: 'starting',\n",
              "    }\n",
              "  };\n",
              "\n",
              "  cancel.remove();\n",
              "\n",
              "  // Disable the input element since further picks are not allowed.\n",
              "  inputElement.disabled = true;\n",
              "\n",
              "  if (!files) {\n",
              "    return {\n",
              "      response: {\n",
              "        action: 'complete',\n",
              "      }\n",
              "    };\n",
              "  }\n",
              "\n",
              "  for (const file of files) {\n",
              "    const li = document.createElement('li');\n",
              "    li.append(span(file.name, {fontWeight: 'bold'}));\n",
              "    li.append(span(\n",
              "        `(${file.type || 'n/a'}) - ${file.size} bytes, ` +\n",
              "        `last modified: ${\n",
              "            file.lastModifiedDate ? file.lastModifiedDate.toLocaleDateString() :\n",
              "                                    'n/a'} - `));\n",
              "    const percent = span('0% done');\n",
              "    li.appendChild(percent);\n",
              "\n",
              "    outputElement.appendChild(li);\n",
              "\n",
              "    const fileDataPromise = new Promise((resolve) => {\n",
              "      const reader = new FileReader();\n",
              "      reader.onload = (e) => {\n",
              "        resolve(e.target.result);\n",
              "      };\n",
              "      reader.readAsArrayBuffer(file);\n",
              "    });\n",
              "    // Wait for the data to be ready.\n",
              "    let fileData = yield {\n",
              "      promise: fileDataPromise,\n",
              "      response: {\n",
              "        action: 'continue',\n",
              "      }\n",
              "    };\n",
              "\n",
              "    // Use a chunked sending to avoid message size limits. See b/62115660.\n",
              "    let position = 0;\n",
              "    do {\n",
              "      const length = Math.min(fileData.byteLength - position, MAX_PAYLOAD_SIZE);\n",
              "      const chunk = new Uint8Array(fileData, position, length);\n",
              "      position += length;\n",
              "\n",
              "      const base64 = btoa(String.fromCharCode.apply(null, chunk));\n",
              "      yield {\n",
              "        response: {\n",
              "          action: 'append',\n",
              "          file: file.name,\n",
              "          data: base64,\n",
              "        },\n",
              "      };\n",
              "\n",
              "      let percentDone = fileData.byteLength === 0 ?\n",
              "          100 :\n",
              "          Math.round((position / fileData.byteLength) * 100);\n",
              "      percent.textContent = `${percentDone}% done`;\n",
              "\n",
              "    } while (position < fileData.byteLength);\n",
              "  }\n",
              "\n",
              "  // All done.\n",
              "  yield {\n",
              "    response: {\n",
              "      action: 'complete',\n",
              "    }\n",
              "  };\n",
              "}\n",
              "\n",
              "scope.google = scope.google || {};\n",
              "scope.google.colab = scope.google.colab || {};\n",
              "scope.google.colab._files = {\n",
              "  _uploadFiles,\n",
              "  _uploadFilesContinue,\n",
              "};\n",
              "})(self);\n",
              "</script> "
            ]
          },
          "metadata": {}
        },
        {
          "output_type": "stream",
          "name": "stdout",
          "text": [
            "Saving faustoPoesiasCompletas.pdf to faustoPoesiasCompletas.pdf\n"
          ]
        }
      ],
      "source": [
        "from google.colab import files\n",
        "uploaded = files.upload()"
      ]
    },
    {
      "cell_type": "code",
      "execution_count": null,
      "metadata": {
        "colab": {
          "base_uri": "https://localhost:8080/"
        },
        "id": "XfDs6BA6ArNq",
        "outputId": "db965e36-acae-4743-eb75-c7b7fe23e186"
      },
      "outputs": [
        {
          "name": "stdout",
          "output_type": "stream",
          "text": [
            "Primeros versos del Fausto:\n",
            "Verso 1: FAUSTO 43\n",
            "Verso 2: Paisano Aniceto el Callo,\n",
            "Verso 3: Puede sin cuidao vivir,\n",
            "Verso 4: Que primero han de decir\n",
            "Verso 5: Que la viscacha es caballo,\n"
          ]
        }
      ],
      "source": [
        "# Función actualizada para limpiar y dividir en versos\n",
        "def limpiar_y_dividir_en_versos_fausto(texto):\n",
        "    texto = re.sub(r\"Estanislao.*?López\", \"\", texto, flags=re.IGNORECASE)\n",
        "    texto = re.sub(r'\\b(página|Página)\\b.*?\\d+', '', texto)\n",
        "    texto = re.sub(r'\\n+', '\\n', texto).strip()\n",
        "\n",
        "    # Dividir en versos individuales\n",
        "    versos = [linea.strip() for linea in texto.split(\"\\n\") if linea.strip()]\n",
        "    return versos\n",
        "\n",
        "# Leer y procesar el texto\n",
        "reader_fausto = PdfReader(\"faustoPoesiasCompletas.pdf\")\n",
        "texto_fausto = \" \".join([page.extract_text() for page in reader_fausto.pages[12:]])\n",
        "texto_fausto_truncado = texto_fausto.split(\"En sanguinarios excesos, Por mal entendido honor\")[0]\n",
        "versos_fausto = limpiar_y_dividir_en_versos_fausto(texto_fausto_truncado)\n",
        "\n",
        "# Imprimir algunos versos para verificar\n",
        "print(\"Primeros versos del Fausto:\")\n",
        "for i, verso in enumerate(versos_fausto[:5]):\n",
        "    print(f\"Verso {i+1}: {verso}\")\n"
      ]
    },
    {
      "cell_type": "markdown",
      "metadata": {
        "id": "VxcQey9EBK8m"
      },
      "source": [
        "Unificación y Preparación para el Siguiente Paso\n",
        "Etiquetar los versos con la obra correspondiente:\n",
        "\n",
        "Martín Fierro: label = 0\n",
        "Fausto: label = 1\n",
        "Crear un DataFrame para combinar los datos:\n",
        "\n",
        "Ademas en forma simple, unimos los dataframe y los barajamos:\n",
        "\n",
        "pd.concat([df_mf, df_fausto]): Une los DataFrames df_mf y df_fausto en uno solo, apilando sus filas.\n",
        "\n",
        ".sample(frac=1): Baraja aleatoriamente todas las filas del DataFrame resultante.\n",
        "\n",
        ".reset_index(drop=True): Reinicia los índices del DataFrame, eliminando los índices antiguos y asignando un índice nuevo consecutivo (0, 1, 2...).\n",
        "\n",
        "Resultado final: data es un DataFrame combinado de df_mf y df_fausto, con las filas mezcladas y los índices reorganizados.\n",
        "\n",
        "Luego:\n",
        "\n",
        "implemento una lineas con sentencias que limpian y normalizan los datos textuales:\n",
        "\n",
        "Elimina contenido irrelevante como líneas vacías, números romanos, títulos o números de página.\n",
        "\n",
        "Garantiza que los versos estén bien formateados y listos para análisis posterior, como procesamiento de lenguaje natural o visualización."
      ]
    },
    {
      "cell_type": "code",
      "execution_count": null,
      "metadata": {
        "colab": {
          "base_uri": "https://localhost:8080/"
        },
        "id": "2zgOOBc9Cbqb",
        "outputId": "1aa21f87-1b79-49be-d150-4403a3b08427"
      },
      "outputs": [
        {
          "name": "stdout",
          "output_type": "stream",
          "text": [
            "                                 verse  label\n",
            "6029       Ciertas persianas, se para,      1\n",
            "109         Media vuelta a la derecha,      1\n",
            "1130          pues a mí me pasa igual,      0\n",
            "5931              un planaso le asenté      0\n",
            "4127   _ ¿ Y su ausencia de tres días?      1\n",
            "2177            nunca nos ha de faltar      0\n",
            "494          \"-Este sí que es amolar\",      0\n",
            "6506            es siguro que lo deja.      0\n",
            "3326  Evocación, el muerto se levanta.      1\n",
            "2860           Por mal entendido honor      1\n",
            "label\n",
            "1    4314\n",
            "0    2317\n",
            "Name: count, dtype: int64\n",
            "Datos preparados y guardados para clasificación.\n"
          ]
        }
      ],
      "source": [
        "import pandas as pd\n",
        "\n",
        "# Crear DataFrame con etiquetas\n",
        "df_mf = pd.DataFrame({'verse': versos_mf, 'label': 0})\n",
        "df_fausto = pd.DataFrame({'verse': versos_fausto, 'label': 1})\n",
        "\n",
        "# Combinar y mezclar aleatoriamente con semilla\n",
        "data = pd.concat([df_mf, df_fausto]).sample(frac=1, random_state=42).reset_index(drop=True)\n",
        "# data = pd.concat([df_mf, df_fausto]).sample(frac=1).reset_index(drop=True)\n",
        "\n",
        "import re\n",
        "\n",
        "# 1. Eliminar líneas vacías o demasiado cortas\n",
        "data = data[data['verse'].str.strip().str.len() > 3]\n",
        "\n",
        "# 2. Eliminar números romanos\n",
        "data = data[~data['verse'].str.contains(r'^\\b[IVX]+\\b$', flags=re.IGNORECASE)]\n",
        "\n",
        "# 3. Eliminar títulos y números de página\n",
        "data = data[~data['verse'].str.contains(r'\\bFAUSTO\\b.*\\d+', flags=re.IGNORECASE)]\n",
        "\n",
        "# 4. Normalizar espacios dentro de las palabras\n",
        "data['verse'] = data['verse'].str.replace(r'\\s+', ' ', regex=True).str.strip()\n",
        "\n",
        "# 5. Verificar limpieza de los datos\n",
        "print(data.sample(10))\n",
        "\n",
        "# 6. Verificar distribución de las etiquetas\n",
        "print(data['label'].value_counts())\n",
        "\n",
        "# 7. Guardar los datos limpios\n",
        "# data.to_csv('data_limpio.csv', index=False)\n",
        "\n",
        "\n",
        "\n",
        "# Guardar en archivo CSV para uso posterior\n",
        "data.to_csv(\"versos_clasificacion.csv\", index=False, encoding='utf-8')\n",
        "print(\"Datos preparados y guardados para clasificación.\")\n"
      ]
    },
    {
      "cell_type": "code",
      "execution_count": null,
      "metadata": {
        "colab": {
          "base_uri": "https://localhost:8080/"
        },
        "id": "SI4fFeIuCv2z",
        "outputId": "3ba6feef-572d-4cc5-e295-fe3057f07a25"
      },
      "outputs": [
        {
          "name": "stdout",
          "output_type": "stream",
          "text": [
            "                             verse  label\n",
            "0           Aquí me pongo a cantar      0\n",
            "1         al compás de la vigüela,      0\n",
            "2     que el hombre que lo desvela      0\n",
            "3          una pena estrordinaria,      0\n",
            "4            como la ave solitaria      0\n",
            "...                            ...    ...\n",
            "2312      en el Dios que lo formó;      0\n",
            "2313         y aquí me despido yo,      0\n",
            "2314     que referí ansí a mi modo      0\n",
            "2315       MALES QUE CONOCEN TODOS      0\n",
            "2316        PERO QUE NAIDES CONTO.      0\n",
            "\n",
            "[2317 rows x 2 columns]\n"
          ]
        }
      ],
      "source": [
        "print(df_mf)"
      ]
    },
    {
      "cell_type": "code",
      "execution_count": null,
      "metadata": {
        "colab": {
          "base_uri": "https://localhost:8080/"
        },
        "id": "mmVOd3A0FTLH",
        "outputId": "64ddb40c-f1fd-47d0-c174-2050ff4bba49"
      },
      "outputs": [
        {
          "name": "stdout",
          "output_type": "stream",
          "text": [
            "                                  verse  label\n",
            "0                             FAUSTO 43      1\n",
            "1             Paisano Aniceto el Callo,      1\n",
            "2               Puede sin cuidao vivir,      1\n",
            "3              Que primero han de decir      1\n",
            "4           Que la viscacha es caballo,      1\n",
            "...                                 ...    ...\n",
            "4334                  C asa de M uñecas      1\n",
            "4335                    ENRIQUE LARRETA      1\n",
            "4336                       El “Linyera\"      1\n",
            "4337        Santa M aría del Buen A ire      1\n",
            "4338  Las dos Fundaciones de Ba. A ires      1\n",
            "\n",
            "[4339 rows x 2 columns]\n"
          ]
        }
      ],
      "source": [
        "print(df_fausto)"
      ]
    },
    {
      "cell_type": "markdown",
      "metadata": {
        "id": "XnmkvbGcl2gR"
      },
      "source": [
        "#**Este bloque esta solo para el caso que se desee obviar la generacion del dataset depurado \"versos_clasificacion.csv\" y se desee procesar desde este punto recuperando del disco local**\n"
      ]
    },
    {
      "cell_type": "code",
      "execution_count": null,
      "metadata": {
        "id": "2T-cXbM5mMq3"
      },
      "outputs": [],
      "source": [
        "data = load(\"versos_clasificacion.csv\")"
      ]
    },
    {
      "cell_type": "markdown",
      "metadata": {
        "id": "xx1CZnoHjGR4"
      },
      "source": [
        "Verifico las 5 primeras filas del nuevo dataset barajado"
      ]
    },
    {
      "cell_type": "code",
      "execution_count": null,
      "metadata": {
        "colab": {
          "base_uri": "https://localhost:8080/"
        },
        "id": "f4s11_rdFzQh",
        "outputId": "ebfc06f4-009c-4b17-cad7-678ecae86b30"
      },
      "outputs": [
        {
          "name": "stdout",
          "output_type": "stream",
          "text": [
            "                                       verse  label\n",
            "0                  De las cifras anteriores,      1\n",
            "1                       ¡cosa que daba calor      0\n",
            "2                     Apenas hiere la arena.      1\n",
            "3  Hasta el triste peñasco en que expiraste!      1\n",
            "4              de aquel maula, que me errase      0\n"
          ]
        }
      ],
      "source": [
        "print(data[:5])"
      ]
    },
    {
      "cell_type": "markdown",
      "metadata": {
        "id": "-jUHNcnfIlp3"
      },
      "source": [
        "#**verifico si los datos están correctamente preparados:**"
      ]
    },
    {
      "cell_type": "markdown",
      "metadata": {
        "id": "gvxejC-YI2w3"
      },
      "source": [
        "Verificar la distribución de etiquetas: Ejecuto el siguiente código para asegurarme de que tanto los versos del Martín Fierro como los del Fausto están presentes en el dataframe:"
      ]
    },
    {
      "cell_type": "code",
      "execution_count": null,
      "metadata": {
        "colab": {
          "base_uri": "https://localhost:8080/"
        },
        "id": "mO3CKpwoIpY0",
        "outputId": "cc095449-7673-4ffd-a055-85b118d7486a"
      },
      "outputs": [
        {
          "name": "stdout",
          "output_type": "stream",
          "text": [
            "label\n",
            "1    4314\n",
            "0    2317\n",
            "Name: count, dtype: int64\n"
          ]
        }
      ],
      "source": [
        "print(data['label'].value_counts())\n"
      ]
    },
    {
      "cell_type": "markdown",
      "metadata": {
        "id": "hnICmJcoI9QA"
      },
      "source": [
        "Verificar ejemplos de ambas clases: Filtro los datos por etiqueta para asegurarme de que ambas clases están representadas correctamente:"
      ]
    },
    {
      "cell_type": "code",
      "execution_count": null,
      "metadata": {
        "colab": {
          "base_uri": "https://localhost:8080/"
        },
        "id": "1MxLoVneJAdb",
        "outputId": "274e11b8-a0c9-49ba-a791-27c76d4f997b"
      },
      "outputs": [
        {
          "name": "stdout",
          "output_type": "stream",
          "text": [
            "                            verse  label\n",
            "1            ¡cosa que daba calor      0\n",
            "4   de aquel maula, que me errase      0\n",
            "5          mazamorra bien pisada,      0\n",
            "7    y aquél que no era chancleta      0\n",
            "10      y que eran muchos jinetes      0\n",
            "                                       verse  label\n",
            "0                  De las cifras anteriores,      1\n",
            "2                     Apenas hiere la arena.      1\n",
            "3  Hasta el triste peñasco en que expiraste!      1\n",
            "6          Le soltara furioso mi intendente.      1\n",
            "8       Será lo que una oruga es a un alano,      1\n"
          ]
        }
      ],
      "source": [
        "print(data[data['label'] == 0].head())  # Versos del Martín Fierro\n",
        "print(data[data['label'] == 1].head())  # Versos del Fausto\n"
      ]
    },
    {
      "cell_type": "markdown",
      "metadata": {
        "id": "CT-wGDoZJKB-"
      },
      "source": [
        "Confirmar el barajado: Para verificar que las filas estén mezcladas, voy a revisar algunas filas de forma aleatoria:"
      ]
    },
    {
      "cell_type": "code",
      "execution_count": null,
      "metadata": {
        "colab": {
          "base_uri": "https://localhost:8080/"
        },
        "id": "d6su7R6xJRkf",
        "outputId": "23a28efe-27c8-4861-b698-c2e0630a17d7"
      },
      "outputs": [
        {
          "name": "stdout",
          "output_type": "stream",
          "text": [
            "                               verse  label\n",
            "6109     A enderezarle esta epístola      1\n",
            "4611    • —¡Si la han informado mal!      1\n",
            "218       Del vate, cantar llorando,      1\n",
            "5552  Y se hacen los que no aciertan      0\n",
            "2983        Juana, Rosa y Saturnina.      1\n",
            "4842               J. J. D E MO,°.A.      1\n",
            "2781                SALAS Y QUIROGA.      1\n",
            "1298    Y aunque a las aves les dio,      0\n",
            "4807   que yo era un hombre decente,      0\n",
            "11             Y elevan sus palmeras      1\n"
          ]
        }
      ],
      "source": [
        "print(data.sample(10))\n"
      ]
    },
    {
      "cell_type": "markdown",
      "metadata": {
        "id": "vwdwBZ1Q-USo"
      },
      "source": [
        "#**Representar los datos con Bag of Words o TF-IDF**\n",
        "\n",
        "A esta altura, yo debo transformar los textos en vectores con caracteristicas numericas.\n",
        "\n",
        "para ello contamos con dos tecnicas Bag of Words (BoW) o TF-IDF utilizadas en procesamiento del lenguaje natural (NLP) para convertir texto en un formato numérico que pueda ser entendido y procesado por algoritmos de aprendizaje automático.\n",
        "\n",
        "Bag of Words (BoW)\n",
        "\n",
        "El modelo Bag of Words convierte un conjunto de textos (como documentos o frases) en un conjunto de vectores basado en la frecuencia de las palabras que aparecen en el texto.\n",
        "\n",
        "No considera el orden de las palabras, de ahí el término \"bolsa de palabras\". Solo importa qué palabras están presentes y con qué frecuencia.\n",
        "\n",
        "Vocabulario:  se identifican todas las palabras únicas (o \"tokens\") que aparecen en el conjunto de datos, con lo que se forma un \"vocabulario\" de las palabras posibles.\n",
        "\n",
        "Vectorizacion: Para cada documento o texto, se crea un vector con tantas dimensiones como palabras hay en el vocabulario. Cada dimensión representa la frecuencia (o conteo) de una palabra en ese documento.\n",
        "\n",
        "TF-IDF\n",
        "\n",
        "es una mejora del modelo Bag of Words,  ademas de la frecuencia de las palabras en un documento, considera, también su relevancia. Penaliza las palabras comunes que aparecen en muchos documentos (como \"el\", \"y\", \"es\")\n",
        "\n",
        "Combina dos métricas:\n",
        "TF (Term Frequency): La frecuencia de una palabra en un documento específico.\n",
        "IDF (Inverse Document Frequency): Una medida de qué tan rara es una palabra en el conjunto de documentos.\n",
        "\n",
        "Porque eleji TF-IDF:\n",
        "\n",
        "Se justifica en tareas complejas donde es fundamental identificar términos relevantes para la discriminación entre documentos, como en la clasificación de documentos.\n",
        "\n",
        "Bag of Words, en cambio, es ideal para tareas simples de NLP o cuando se necesita una representación básica del texto (como análisis de sentimientos rápido o clasificación simple).\n"
      ]
    },
    {
      "cell_type": "code",
      "execution_count": null,
      "metadata": {
        "colab": {
          "base_uri": "https://localhost:8080/"
        },
        "id": "JXztc3Fi_aZH",
        "outputId": "ca32b0c8-4c55-4353-b939-1f777f1590e2"
      },
      "outputs": [
        {
          "name": "stdout",
          "output_type": "stream",
          "text": [
            "Shape de X: (6631, 1000)\n"
          ]
        }
      ],
      "source": [
        "from sklearn.feature_extraction.text import TfidfVectorizer\n",
        "\n",
        "# Se utiliza TF-IDF\n",
        "vectorizer = TfidfVectorizer(max_features=1000)  # Limita a las 1000 palabras más comunes\n",
        "X = vectorizer.fit_transform(data['verse'])\n",
        "y = data['label']\n",
        "\n",
        "\n",
        "# Verificar la dimensionalidad de los datos transformados\n",
        "print(f\"Shape de X: {X.shape}\")\n"
      ]
    },
    {
      "cell_type": "markdown",
      "metadata": {
        "id": "NNmgEDmRUC7m"
      },
      "source": [
        "Interpretacion del resultado anterior\n",
        "\n",
        "Tengo una matriz TF-IDF de 6,631 documentos con un vocabulario reducido a las 1,000 palabras más importantes.\n",
        "Cada documento está representado como un vector de 1,000 dimensiones, donde cada entrada indica la importancia de una palabra en ese documento en función de su frecuencia relativa y su relevancia global."
      ]
    },
    {
      "cell_type": "markdown",
      "metadata": {
        "id": "KZ7bMtT4_usJ"
      },
      "source": [
        "Dividir en conjuntos de entrenamiento y prueba"
      ]
    },
    {
      "cell_type": "code",
      "execution_count": null,
      "metadata": {
        "colab": {
          "base_uri": "https://localhost:8080/"
        },
        "id": "BnNQjtX4_v7b",
        "outputId": "fed34e5d-43f1-4261-eb1d-5078a577183f"
      },
      "outputs": [
        {
          "name": "stdout",
          "output_type": "stream",
          "text": [
            "Tamaño del conjunto de entrenamiento: (4641, 1000)\n",
            "Tamaño del conjunto de prueba: (1990, 1000)\n"
          ]
        }
      ],
      "source": [
        "from sklearn.model_selection import train_test_split\n",
        "\n",
        "# Dividir en entrenamiento y prueba\n",
        "X_train, X_test, y_train, y_test = train_test_split(X, y, test_size=0.3, random_state=42)\n",
        "\n",
        "# Verificar el tamaño de los conjuntos\n",
        "print(f\"Tamaño del conjunto de entrenamiento: {X_train.shape}\")\n",
        "print(f\"Tamaño del conjunto de prueba: {X_test.shape}\")\n"
      ]
    },
    {
      "cell_type": "markdown",
      "metadata": {
        "id": "zbvZra9C_ynd"
      },
      "source": [
        "Entrenar el clasificador Naive Bayes"
      ]
    },
    {
      "cell_type": "code",
      "execution_count": null,
      "metadata": {
        "colab": {
          "base_uri": "https://localhost:8080/"
        },
        "id": "be8gKGTp_1XW",
        "outputId": "2dfd0cbd-0b5b-439c-dd53-3188341700d5"
      },
      "outputs": [
        {
          "name": "stdout",
          "output_type": "stream",
          "text": [
            "Reporte de clasificación:\n",
            "              precision    recall  f1-score   support\n",
            "\n",
            "           0       0.78      0.48      0.60       725\n",
            "           1       0.76      0.92      0.83      1265\n",
            "\n",
            "    accuracy                           0.76      1990\n",
            "   macro avg       0.77      0.70      0.71      1990\n",
            "weighted avg       0.77      0.76      0.75      1990\n",
            "\n"
          ]
        }
      ],
      "source": [
        "from sklearn.naive_bayes import MultinomialNB\n",
        "from sklearn.metrics import classification_report\n",
        "\n",
        "# Entrenar modelo\n",
        "model = MultinomialNB()\n",
        "model.fit(X_train, y_train)\n",
        "\n",
        "# Realizar predicciones\n",
        "y_pred = model.predict(X_test)\n",
        "\n",
        "# Evaluar el modelo\n",
        "print(\"Reporte de clasificación:\")\n",
        "print(classification_report(y_test, y_pred))\n"
      ]
    },
    {
      "cell_type": "markdown",
      "metadata": {
        "id": "ACCzl0jS_8TH"
      },
      "source": [
        "Interpretacion de los resultados y ajustes probables.\n",
        "\n",
        "Voy a analizar las métricas claves y ajustar si es necesario.\n",
        "\n",
        "Interpretación del reporte de clasificación\n",
        "\n",
        "El reporte de clasificación proporciona métricas clave sobre el rendimiento del modelo en la tarea de clasificación binaria, es decir, decidir si un verso pertenece al Martín Fierro (clase 0) o al Fausto (clase 1). Estas métricas permiten evaluar cómo de bien está funcionando el clasificador Naive Bayes en este problema específico.\n"
      ]
    },
    {
      "cell_type": "markdown",
      "metadata": {
        "id": "iW3xcV9elcxO"
      },
      "source": [
        "#**Interpretacion en el contexto del tema 2 de clasificacion**\n",
        "\n",
        "Métricas importantes\n",
        "\n",
        "Precision\n",
        "\n",
        "Clase 0 (Martín Fierro): 0.78\n",
        "\n",
        "De todos los versos clasificados como del Martín Fierro, el 78% realmente lo eran.\n",
        "\n",
        "Clase 1 (Fausto): 076\n",
        "\n",
        "De todos los versos clasificados como del Fausto, el 76% eran correctos.\n",
        "\n",
        "Esto indica que el modelo es ligeramente más preciso al clasificar versos del  Martín Fierro  que del Fausto.\n",
        "\n",
        "Recall\n",
        "\n",
        "Clase 0 (Martín Fierro): 0.48\n",
        "\n",
        "El modelo identifica correctamente solo el 48% de los versos que realmente pertenecen al Martín Fierro.\n",
        "\n",
        "Clase 1 (Fausto): 0.92\n",
        "\n",
        "El modelo detecta correctamente el 92% de los versos del Fausto.\n",
        "\n",
        "Aquí se nota un desbalance en el rendimiento: el modelo tiene dificultades para capturar los versos del Martín Fierro, mientras que es mucho más eficaz para identificar los del Fausto.\n",
        "\n",
        "F1-Score\n",
        "\n",
        "Clase 0: 0.60\n",
        "\n",
        "Una combinación equilibrada de precisión y recall, lo que indica un rendimiento moderado al identificar versos del Martín Fierro.\n",
        "\n",
        "Clase 1: 0.83\n",
        "\n",
        "Un rendimiento significativamente mejor para los versos del Fausto.\n",
        "\n",
        "Support\n",
        "\n",
        "Clase 0: 725 versos\n",
        "\n",
        "Clase 1: 1265 versos\n",
        "\n",
        "Muestra que el conjunto de datos está desbalanceado, ya que hay casi un 75% mas de versos del Fausto que del Martín Fierro. Esto podría ser una de las razones por las que el modelo rinde mejor para la clase mayoritaria (clase 1).\n",
        "\n",
        "Accuracy: 76%\n",
        "\n",
        "Esto significa que, en general, el modelo clasifica correctamente el 76% de los versos, pero no es suficiente para entender si el modelo es equilibrado entre clases. Para eso, es necesario analizar las métricas por clase.\n",
        "\n",
        "Macro avg\n",
        "\n",
        "Promedio entre clases (no ponderado):\n",
        "\n",
        "Precision: 0.77\n",
        "\n",
        "Recall: 0.70\n",
        "\n",
        "F1-Score: 0.71\n",
        "\n",
        "Estas métricas consideran cada clase de manera igualitaria, y reflejan un rendimiento moderado.\n",
        "\n",
        "Weighted avg\n",
        "\n",
        "Promedio ponderado por la cantidad de ejemplos en cada clase:\n",
        "\n",
        "Precision: 0.77\n",
        "\n",
        "Recall: 0.76\n",
        "\n",
        "F1-Score: 0.75\n",
        "\n",
        "Estas métricas reflejan que el modelo está algo sesgado hacia la clase mayoritaria (clase 1).\n",
        "\n",
        "2. Interpretación general\n",
        "\n",
        "Desbalance de clases: El modelo tiene un mejor desempeño para clasificar versos del Fausto (clase 1) porque hay más ejemplos de esta clase en el conjunto de datos.\n",
        "\n",
        "Esto afecta negativamente el desempeño para la clase minoritaria (Martín Fierro).\n",
        "\n",
        "Problemas de recall para la clase 0:\n",
        "\n",
        "El recall para el Martín Fierro es bajo (0.48), lo que significa que el modelo pierde una gran cantidad de versos que deberían ser clasificados en esta clase.\n",
        "\n",
        "Modelo más efectivo para la clase mayoritaria: La clase mayoritaria tiene mejores valores recall y F1-score.\n",
        "\n",
        "3. Conclusiones\n",
        "\n",
        "El modelo actual tiene dificultades para equilibrar el rendimiento entre clases, probablemente debido al desbalance en los datos.\n",
        "\n",
        "Para mejorar, sería conveniente:\n",
        "\n",
        "Balancear las clases: Utilizar técnicas como SMOTE para sobremuestrear la clase minoritaria o submuestreo de la clase mayoritaria.\n",
        "\n",
        "Optimizar la representación TF-IDF: Ajustar parámetros como min_df y max_df para mejorar la relevancia de las palabras seleccionadas.\n",
        "\n",
        "Probar otros clasificadores: Modelos como árboles de decisión, SVM o regresiones logísticas podrían capturar mejor las diferencias entre las clases.\n",
        "\n",
        "Voy a incluir gráficos como una matriz de confusión y una curva ROC para ilustrar las áreas de mejora y justificar los pasos a seguir."
      ]
    },
    {
      "cell_type": "markdown",
      "metadata": {
        "id": "ctP6kjH9DQvO"
      },
      "source": [
        "Visualizacion de resultados"
      ]
    },
    {
      "cell_type": "code",
      "execution_count": null,
      "metadata": {
        "colab": {
          "base_uri": "https://localhost:8080/",
          "height": 472
        },
        "id": "_EPBBICKDPBB",
        "outputId": "ae7c3758-5334-4390-8c34-cae55d9cc2aa"
      },
      "outputs": [
        {
          "data": {
            "image/png": "[encoded data removed]",
            "text/plain": [
              "<Figure size 640x480 with 2 Axes>"
            ]
          },
          "metadata": {},
          "output_type": "display_data"
        }
      ],
      "source": [
        "from sklearn.metrics import confusion_matrix, ConfusionMatrixDisplay\n",
        "\n",
        "# Crear matriz de confusión\n",
        "cm = confusion_matrix(y_test, y_pred, labels=model.classes_)\n",
        "disp = ConfusionMatrixDisplay(confusion_matrix=cm, display_labels=model.classes_)\n",
        "\n",
        "# Visualizar\n",
        "disp.plot(cmap=\"Blues\")\n",
        "import matplotlib.pyplot as plt\n",
        "plt.title(\"Matriz de Confusión\")\n",
        "plt.show()\n"
      ]
    },
    {
      "cell_type": "markdown",
      "metadata": {
        "id": "2Ap5nwaqQDzn"
      },
      "source": [
        "#**Interpretacion de la Matriz de Confusion**\n",
        "\n",
        "**Estructura de la Matriz de Confusión**\n",
        "\n",
        "El eje vertical (True label) representa las etiquetas reales de los datos.\n",
        "El eje horizontal (Predicted label) representa las etiquetas predichas por el modelo.\n",
        "Cada celda indica la cantidad de instancias correspondientes a una combinación de etiqueta real y predicha.\n",
        "\n",
        "#**Valores en la Matriz de Confusión**\n",
        "\n",
        "Clase 0 (etiqueta real): Versos de una categoría (ej., Martín Fierro).\n",
        "Clase 1 (etiqueta real): Versos de la otra categoría (ej., Fausto).\n",
        "\n",
        "**Los valores son los siguientes:**\n"
      ]
    },
    {
      "cell_type": "markdown",
      "metadata": {
        "id": "Ku2ToHbFSmhr"
      },
      "source": [
        "TP (351): El modelo acertó al predecir versos del Martín Fierro.\n",
        "\n",
        "FN (374): Errores del modelo, versos del Martín Fierro predichos como si fueran del Fausto.\n",
        "\n",
        "FP (98): Errores del modelo, versos del Fausto predichos como si fueran del Martín Fierro.\n",
        "\n",
        "TN (1167): El modelo acertó al predecir versos del Fausto.\n",
        "\n",
        "#**Interpretación de la Barra Numérica:**\n",
        "\n",
        "***La barra numérica que aparece al lado del gráfico de la matriz de confusión es una escala de colores que representa la intensidad de los valores en la matriz.***\n",
        "\n",
        "La barra muestra un gradiente de colores (por ejemplo, de azul claro a azul oscuro), y se usa para visualizar mejor la densidad o cantidad de elementos en cada celda de la matriz.\n",
        "\n",
        "Color más claro (en este caso, azul claro): Representa valores menores en la matriz de confusión.\n",
        "\n",
        "Color más oscuro (en este caso, azul oscuro): Representa valores mayores en la matriz de confusión.\n",
        "\n",
        "***¿Qué significa en el gráfico?***\n",
        "\n",
        "Las celdas con un color más oscuro indican que hay una mayor cantidad de predicciones en esa categoría (por ejemplo, la celda de True Negatives (1167) es más oscura porque es el valor más alto).\n",
        "\n",
        "Las celdas con un color más claro indican que hay una menor cantidad de predicciones en esa categoría (por ejemplo, False Positives (98) es más claro porque es un valor menor).\n",
        "\n",
        "La barra es una referencia visual que ayuda a identificar rápidamente las áreas de la matriz donde el modelo tuvo más aciertos o errores, facilitando la comprensión de la distribución de las predicciones.\n",
        "\n",
        "**Métricas Derivadas**\n",
        "\n",
        "Podemos calcular las principales métricas a partir de la matriz de confusión:\n",
        "\n",
        "Precision (Precisión):\n",
        "\n",
        "Para la clase 0:\n",
        "![image.png](data:image/png;base64,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)\n",
        "\n",
        "**Interpretación:**\n",
        "\n",
        "La precisión mide la cantidad de predicciones correctas dentro de lo que se predijo como positivo. El modelo tiene buen desempeño en ambas clases, con una precisión cercana al 76-78%.\n",
        "\n",
        "**Recall (Sensibilidad):**\n",
        "\n",
        "![image.png](data:image/png;base64,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)\n",
        "\n",
        "**Interpretación:**\n",
        "\n",
        "El recall mide cuántos casos positivos reales se detectaron correctamente. La clase 0 tiene un recall bajo (48%), lo que indica que se están perdiendo muchos casos reales de la clase 0. La clase 1 tiene un recall alto (92%), por lo que la mayoría de los casos reales de la clase 1 son bien identificados.\n",
        "\n",
        "**Accuracy (Exactitud):**\n",
        "\n",
        "La exactitud general del modelo es:\n",
        "\n",
        "![image.png](data:image/png;base64,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)\n",
        "\n",
        "\n",
        "\n",
        "**F1-Score:**\n",
        "\n",
        "Combina precisión y recall para cada clase. El F1-Score refleja un balance entre estas métricas:\n",
        "\n",
        "Clase 0: F1-Score ≈ 0.60\n",
        "\n",
        "Clase 1: F1-Score ≈ 0.83\n",
        "\n",
        "Esto indica que la clase 1 tiene un rendimiento global significativamente mejor que la clase 0.\n",
        "\n",
        "**Interpretación General**\n",
        "\n",
        "El modelo tiene un buen desempeño general con una exactitud del 76%.\n",
        "La clase 1 (versos Fausto) se clasifica mejor, con alta sensibilidad (92%) y precisión (76%, levemente inferior a la de la clase 0 (78%)) y un balance (F1-Score) muy superior al de la clase 0.\n",
        "\n",
        "La clase 0 (versos Martín Fierro) presenta problemas:\n",
        "Un recall del 48% indica que se pierden muchos versos reales de la clase 0, clasificándolos erróneamente como clase 1.\n",
        "\n",
        "Esto puede deberse a un desequilibrio en las clases o a características compartidas entre versos de ambas clases."
      ]
    },
    {
      "cell_type": "markdown",
      "metadata": {
        "id": "PZLkclQEYCIu"
      },
      "source": [
        "#**Analisis de Mejoras posibles**\n",
        "Atento a los resultados , estructuras y dimensiones de los textos que intervienen, puedo concluir, con algunas dudas, que se podrian aplicar las siguientes mejoras:\n",
        "\n",
        "Balancear las clases: de acuerdo a los resultados y al desvalance visualizado y considerando que es un problema de clasificacion, y en base a lo investigado, podria usar técnicas como SMOTE (Synthetic Minority Over-sampling Technique) para equilibrar las instancias de clase 0. En este caso es donde tengo algunas dudas por ejemplo, si al disminuir la dimensionalidad de uno de los textos, no se pierde la interpretacion de los textos.\n",
        "\n",
        "Ajustar parámetros del modelo: Revisar opciones en la vectorización TF-IDF (por ejemplo, ajustar min_df o max_df) y probar otros clasificadores.\n",
        "\n",
        "Análisis de errores: Revisar las instancias mal clasificadas (especialmente falsos negativos) para entender por qué el modelo falla.\n",
        "\n",
        "Agregar más datos: Si es posible, aumentar el tamaño del conjunto de datos para mejorar el aprendizaje del modelo."
      ]
    },
    {
      "cell_type": "markdown",
      "metadata": {
        "id": "6nNTBsKgDsRr"
      },
      "source": [
        "#**Reporte de clasificación como gráfico de barras:**\n",
        "\n",
        " Compara precisión, recall y F1-Score entre las clases."
      ]
    },
    {
      "cell_type": "code",
      "execution_count": null,
      "metadata": {
        "colab": {
          "base_uri": "https://localhost:8080/",
          "height": 468
        },
        "id": "OiodZ5RhDtjT",
        "outputId": "d776ae14-6f2f-4cb7-9254-6e90eabf06e5"
      },
      "outputs": [
        {
          "data": {
            "image/png": "[encoded data removed]",
            "text/plain": [
              "<Figure size 800x500 with 1 Axes>"
            ]
          },
          "metadata": {},
          "output_type": "display_data"
        }
      ],
      "source": [
        "import matplotlib.pyplot as plt\n",
        "import numpy as np\n",
        "\n",
        "# Métricas del reporte\n",
        "metrics = {\n",
        "    \"Precision\": [0.78, 0.76],\n",
        "    \"Recall\": [0.48, 0.92],\n",
        "    \"F1-Score\": [0.60, 0.83]\n",
        "}\n",
        "\n",
        "# Configurar gráfico\n",
        "labels = ['Clase 0', 'Clase 1']\n",
        "x = np.arange(len(labels))\n",
        "width = 0.2\n",
        "\n",
        "# Crear barras\n",
        "fig, ax = plt.subplots(figsize=(8, 5))\n",
        "ax.bar(x - width, metrics['Precision'], width, label='Precision', color='skyblue')\n",
        "ax.bar(x, metrics['Recall'], width, label='Recall', color='lightgreen')\n",
        "ax.bar(x + width, metrics['F1-Score'], width, label='F1-Score', color='salmon')\n",
        "\n",
        "# Configurar detalles\n",
        "ax.set_ylabel('Puntaje')\n",
        "ax.set_title('Métricas de Clasificación por Clase')\n",
        "ax.set_xticks(x)\n",
        "ax.set_xticklabels(labels)\n",
        "ax.legend()\n",
        "plt.show()\n"
      ]
    },
    {
      "cell_type": "markdown",
      "metadata": {
        "id": "e2StTQa1E-qP"
      },
      "source": [
        "Interpretación\n",
        "\n",
        "Clase 0 (barra izquierda):\n",
        "\n",
        "Precisión (barra azul):\n",
        "\n",
        "Es alta, cercana a 0.78, lo que indica que cuando el modelo predice la Clase 0, acierta en la mayoría de los casos.\n",
        "\n",
        "Recall (barra verde):\n",
        "\n",
        "Es bajo, alrededor de 0.48, lo que significa que el modelo no detecta correctamente muchos casos reales de la Clase 0.\n",
        "\n",
        "F1-Score (barra roja):\n",
        "\n",
        "Es moderado, aproximadamente 0.60, porque combina precisión alta con un recall bajo.\n",
        "\n",
        "Conclusión:\n",
        "\n",
        "La Clase 0 tiene problemas para ser detectada correctamente, especialmente en la sensibilidad.\n",
        "\n",
        "Clase 1 (barra derecha):\n",
        "\n",
        "Precisión (barra azul):\n",
        "\n",
        "Es alta, alrededor de 0.76, lo que indica que las predicciones para la Clase 1 son muy confiables.\n",
        "\n",
        "Recall (barra verde):\n",
        "\n",
        "Es muy alto, cerca de 0.92, lo que significa que el modelo detecta casi todos los casos reales de la Clase 1.\n",
        "\n",
        "F1-Score (barra roja):\n",
        "\n",
        "Es alto, cerca de 0.83, lo que refleja un buen equilibrio entre precisión y recall.\n",
        "\n",
        "Conclusión:\n",
        "\n",
        "El modelo clasifica muy bien la Clase 1, logrando tanto alta precisión como alta sensibilidad.\n",
        "\n",
        "Resumen General\n",
        "\n",
        "El modelo tiene mejor desempeño en la Clase 1 (mayor recall y F1-Score), lo que indica que identifica correctamente la mayoría de los casos de esta clase.\n",
        "\n",
        "La Clase 0 tiene dificultades, especialmente en el recall, lo que sugiere que muchos casos reales de esta clase se están clasificando incorrectamente como Clase 1."
      ]
    },
    {
      "cell_type": "markdown",
      "metadata": {
        "id": "Y_5T1Y1ZIaUS"
      },
      "source": [
        "1. Distribución de las etiquetas antes del balanceo\n",
        "Este gráfico evidenciará el desbalance de clases en el dataset original."
      ]
    },
    {
      "cell_type": "code",
      "execution_count": null,
      "metadata": {
        "colab": {
          "base_uri": "https://localhost:8080/"
        },
        "id": "J5zuBuqoL9ID",
        "outputId": "0ead9310-e9dd-46fe-cb57-5220a8ad14cb"
      },
      "outputs": [
        {
          "name": "stdout",
          "output_type": "stream",
          "text": [
            "label\n",
            "1    4314\n",
            "0    2317\n",
            "Name: count, dtype: int64\n"
          ]
        }
      ],
      "source": [
        "print(data['label'].value_counts())\n"
      ]
    },
    {
      "cell_type": "code",
      "execution_count": null,
      "metadata": {
        "colab": {
          "base_uri": "https://localhost:8080/",
          "height": 411
        },
        "id": "2DV9KGhPIcTl",
        "outputId": "7d327f15-33e9-435d-f174-0c042e294bc0"
      },
      "outputs": [
        {
          "data": {
            "image/png": "[encoded data removed]",
            "text/plain": [
              "<Figure size 600x400 with 1 Axes>"
            ]
          },
          "metadata": {},
          "output_type": "display_data"
        }
      ],
      "source": [
        "import matplotlib.pyplot as plt\n",
        "\n",
        "# Conteo de etiquetas (sin ordenar)\n",
        "label_counts = data['label'].value_counts()\n",
        "\n",
        "# Invertir el orden\n",
        "label_counts = label_counts[::-1]\n",
        "\n",
        "# Gráfico de barras\n",
        "plt.figure(figsize=(6, 4))\n",
        "label_counts.plot(kind='bar', color=['salmon', 'skyblue'])\n",
        "plt.title('Distribución de las Etiquetas')\n",
        "plt.xlabel('Etiqueta')\n",
        "plt.ylabel('Cantidad de versos')\n",
        "plt.xticks([0, 1], labels=['Clase 0', 'Clase 1'], rotation=0)\n",
        "plt.grid(axis='y', linestyle='--', alpha=0.7)\n",
        "plt.show()\n",
        "\n"
      ]
    },
    {
      "cell_type": "markdown",
      "metadata": {
        "id": "GgpEMAsdbdNf"
      },
      "source": [
        "Distribución de las etiquetas\n",
        "\n",
        "Interpretación:\n",
        "\n",
        "El gráfico muestra un claro desbalance entre las clases.\n",
        "\n",
        "La Clase 1 (representada en azul) tiene significativamente más muestras que la Clase 0 (en rojo).\n",
        "\n",
        "Esto puede impactar negativamente en el rendimiento del modelo, ya que los algoritmos tienden a favorecer la clase mayoritaria.\n",
        "\n",
        "Conclusión:\n",
        "\n",
        "El modelo podría estar sesgado hacia la Clase 1, afectando métricas como recall y F1-score para la Clase 0."
      ]
    },
    {
      "cell_type": "markdown",
      "metadata": {
        "id": "lpIbdKiZI-hX"
      },
      "source": [
        "Curva ROC y AUC\n",
        "La Curva ROC y su área (AUC) ilustrarán la capacidad del modelo para discriminar entre clases."
      ]
    },
    {
      "cell_type": "code",
      "execution_count": null,
      "metadata": {
        "colab": {
          "base_uri": "https://localhost:8080/",
          "height": 564
        },
        "id": "gmw4g0avJBfB",
        "outputId": "f4c51d20-3faa-460a-fbae-8265e30db519"
      },
      "outputs": [
        {
          "data": {
            "image/png": "[encoded data removed]",
            "text/plain": [
              "<Figure size 600x600 with 1 Axes>"
            ]
          },
          "metadata": {},
          "output_type": "display_data"
        }
      ],
      "source": [
        "from sklearn.metrics import roc_curve, roc_auc_score\n",
        "\n",
        "# Probabilidades predichas para la clase positiva\n",
        "y_probs = model.predict_proba(X_test)[:, 1]\n",
        "fpr, tpr, thresholds = roc_curve(y_test, y_probs)\n",
        "auc_score = roc_auc_score(y_test, y_probs)\n",
        "\n",
        "# Gráfico\n",
        "plt.figure(figsize=(6, 6))\n",
        "plt.plot(fpr, tpr, label=f'ROC curve (AUC = {auc_score:.2f})', color='blue')\n",
        "plt.plot([0, 1], [0, 1], 'k--', label='Línea base')\n",
        "plt.title('Curva ROC')\n",
        "plt.xlabel('Tasa de Falsos Positivos')\n",
        "plt.ylabel('Tasa de Verdaderos Positivos')\n",
        "plt.legend(loc='lower right')\n",
        "plt.grid(alpha=0.5)\n",
        "plt.show()\n"
      ]
    },
    {
      "cell_type": "markdown",
      "metadata": {
        "id": "7mZ-vm4Mb7Og"
      },
      "source": [
        "#**Curva ROC y AUC**\n",
        "\n",
        "**Interpretación:**\n",
        "\n",
        "Ejes:\n",
        "\n",
        "El eje X representa la Tasa de Falsos Positivos (FPR).\n",
        "\n",
        "El eje Y representa la Tasa de Verdaderos Positivos (TPR), también conocida como recall o sensibilidad.\n",
        "\n",
        "La gráfica muestra cómo la Tasa de Verdaderos Positivos evoluciona en función de la Tasa de Falsos Positivos al variar el umbral de decisión.\n",
        "\n",
        "La curva ROC indica un desempeño razonable del modelo para distinguir entre clases, con un AUC de 0.85, que es bastante bueno. Sin embargo, aún hay espacio para mejoras, especialmente en reducir falsos negativos y falsos positivos.\n",
        "\n",
        "**Conclusión:**\n",
        "\n",
        "El modelo tiene un buen desempeño general, ya que la curva ROC se encuentra alejada de la diagonal aleatoria y el AUC es 0.85, lo que lo clasifica como un modelo confiable.\n",
        "\n",
        "La capacidad del modelo para distinguir entre clases positivas y negativas es alta, aunque no perfecta.\n",
        "\n",
        "Dependiendo del problema, podría ajustar el umbral de decisión  para maximizar alguna métrica específica, como recall, precisión, o un equilibrio entre ambas."
      ]
    },
    {
      "cell_type": "markdown",
      "metadata": {
        "id": "A1g5zWwGJVHM"
      },
      "source": [
        "#**Importancia de palabras según TF-IDF**"
      ]
    },
    {
      "cell_type": "code",
      "execution_count": null,
      "metadata": {
        "colab": {
          "base_uri": "https://localhost:8080/",
          "height": 565
        },
        "id": "-MhegZ1fJZQp",
        "outputId": "ac0fb967-0d76-45f2-eaf3-7ed2016c8655"
      },
      "outputs": [
        {
          "data": {
            "image/png": "[encoded data removed]",
            "text/plain": [
              "<Figure size 1200x600 with 1 Axes>"
            ]
          },
          "metadata": {},
          "output_type": "display_data"
        }
      ],
      "source": [
        "import numpy as np\n",
        "import pandas as pd\n",
        "\n",
        "# Obtener nombres de las palabras\n",
        "feature_names = vectorizer.get_feature_names_out()\n",
        "\n",
        "# Coeficientes del modelo Naive Bayes\n",
        "coefficients = model.feature_log_prob_\n",
        "\n",
        "# Seleccionar las palabras más relevantes\n",
        "top_n = 10\n",
        "top_words_class_0 = np.argsort(coefficients[0, :])[-top_n:]\n",
        "top_words_class_1 = np.argsort(coefficients[1, :])[-top_n:]\n",
        "\n",
        "# Gráfico\n",
        "plt.figure(figsize=(12, 6))\n",
        "\n",
        "plt.barh([feature_names[i] for i in top_words_class_0], coefficients[0, top_words_class_0], color='skyblue', label='Clase 0')\n",
        "plt.barh([feature_names[i] for i in top_words_class_1], coefficients[1, top_words_class_1], color='salmon', label='Clase 1')\n",
        "plt.title('Palabras Más Relevantes por Clase')\n",
        "plt.xlabel('Relevancia (Log Probabilidad)')\n",
        "plt.ylabel('Palabras')\n",
        "plt.legend()\n",
        "plt.show()\n"
      ]
    },
    {
      "cell_type": "markdown",
      "metadata": {
        "id": "kcam4JYLcvSb"
      },
      "source": [
        "#**Palabras más relevantes por clase**\n",
        "\n",
        "**Interpretación:**\n",
        "\n",
        "Las palabras más influyentes para cada clase (según TF-IDF) son mayoritariamente de alta frecuencia y poca especificidad (\"del\", \"que\", \"los\", etc.). Esto sugiere que el modelo podría estar capturando patrones generales en lugar de características distintivas.\n",
        "\n",
        "**Conclusión:**\n",
        "\n",
        "El uso de palabras con poco contexto puede estar limitando el rendimiento. Optimizar la extracción de características (por ejemplo, mediante el ajuste de TF-IDF o eliminando palabras comunes) podría mejorar la precisión.\n",
        "\n"
      ]
    },
    {
      "cell_type": "markdown",
      "metadata": {
        "id": "XPvfxNvCPERh"
      },
      "source": [
        "Comparación de métricas (Precisión, Recall, F1-Score)\n",
        "\n",
        "Compararemos las métricas clave entre las clases para ilustrar el desempeño del modelo."
      ]
    },
    {
      "cell_type": "code",
      "execution_count": null,
      "metadata": {
        "colab": {
          "base_uri": "https://localhost:8080/",
          "height": 470
        },
        "id": "C_V3ToPYPIkb",
        "outputId": "8b40d3a6-4dc1-47d9-dbe1-88f0bdb35ab0"
      },
      "outputs": [
        {
          "data": {
            "text/plain": [
              "<Figure size 800x600 with 0 Axes>"
            ]
          },
          "metadata": {},
          "output_type": "display_data"
        },
        {
          "data": {
            "image/png": "[encoded data removed]",
            "text/plain": [
              "<Figure size 640x480 with 1 Axes>"
            ]
          },
          "metadata": {},
          "output_type": "display_data"
        }
      ],
      "source": [
        "import seaborn as sns\n",
        "\n",
        "# Datos para las métricas\n",
        "metrics = {\n",
        "    'Clase 0': [0.78, 0.48, 0.60],\n",
        "    'Clase 1': [0.76, 0.92, 0.83]\n",
        "}\n",
        "metrics_df = pd.DataFrame(metrics, index=['Precisión', 'Recall', 'F1-Score'])\n",
        "\n",
        "# Gráfico\n",
        "plt.figure(figsize=(8, 6))\n",
        "metrics_df.plot(kind='bar', colormap='viridis', edgecolor='black')\n",
        "plt.title('Comparación de Métricas por Clase')\n",
        "plt.ylabel('Valor')\n",
        "plt.xticks(rotation=0)\n",
        "plt.grid(axis='y', linestyle='--', alpha=0.7)\n",
        "plt.legend(loc='lower right')\n",
        "plt.show()\n"
      ]
    },
    {
      "cell_type": "markdown",
      "metadata": {
        "id": "eFGoAMiRdf8t"
      },
      "source": [
        "#**Comparación de métricas**\n",
        "\n",
        "**Interpretación:**\n",
        "\n",
        "La Clase 1 tiene un desempeño notablemente superior en recall y F1-score en comparación con la Clase 0.\n",
        "\n",
        "Sin embargo, la precisión de ambas clases es similar, con un valor mayor de la clase 0, lo que indica que el modelo está moderadamente equilibrado, aunque aún podría ser más robusto para ambas clases.\n",
        "\n",
        "**Conclusión:**\n",
        "\n",
        "## Es necesario balancear mejor las métricas entre clases para garantizar un modelo más equitativo."
      ]
    },
    {
      "cell_type": "markdown",
      "metadata": {
        "id": "vqMIIXv7hJjj"
      },
      "source": [
        "#**Recomendaciones**\n",
        "\n",
        "**Basándonos en los gráficos y análisis, serian importantes realizar las siguientes acciones:**\n",
        "\n",
        "\n",
        "**Balancear las clases con sobremuestreo (SMOTE) o submuestreo:**\n",
        "\n",
        "Esto corregirá el desbalance observado en el gráfico de distribución de etiquetas, ayudando al modelo a tratar ambas clases de manera equitativa.\n",
        "\n",
        "**Impacto:**\n",
        "\n",
        "Mejora directa en las métricas de la Clase 0 (recall y F1-score).\n",
        "\n",
        "**Implementación:**\n",
        "\n",
        "Relativamente sencilla con herramientas como imbalanced-learn.\n",
        "\n",
        "**Optimizar la representación de texto con TF-IDF:**\n",
        "\n",
        "Ajustar los parámetros del vectorizador, como eliminar palabras comunes (stopwords) o limitar la frecuencia mínima y máxima de palabras.\n",
        "\n",
        "***Impacto:**\n",
        "*\n",
        "\n",
        "Mejora en la capacidad del modelo para capturar características distintivas, aumentando precisión y recall.\n",
        "\n",
        "**Implementación:**\n",
        "Fácil de ajustar y probar iterativamente.\n",
        "\n",
        "**Tuning de hiperparámetros del modelo:**\n",
        "\n",
        "\n",
        "Ajustar parámetros del clasificador (por ejemplo, la regularización en Naive Bayes) mediante una búsqueda en cuadrícula (Grid Search).\n",
        "\n",
        "***Impacto:***\n",
        "\n",
        "Mejora generalizada en las métricas (ROC-AUC, precisión, recall, etc.).\n",
        "\n",
        "**Implementación:**\n",
        "\n",
        "Puede requerir algo más de tiempo, pero es de alto impacto.\n",
        "\n",
        "#*Justificación de las mejoras*\n",
        "\n",
        "**Balanceo de clases:**\n",
        "\n",
        "Es una prioridad debido al claro desbalance mostrado en el primer gráfico. Esto asegurará que el modelo no favorezca la clase mayoritaria, mejorando el desempeño general.\n",
        "\n",
        "Optimización de TF-IDF:\n",
        "\n",
        "Los gráficos de palabras más relevantes indican que se están utilizando términos poco específicos. Ajustar TF-IDF incrementará la discriminación de las características relevantes, lo cual es crítico para mejorar la precisión y recall.\n",
        "\n",
        "Hiperparámetros (opcional):\n",
        "\n",
        "Aunque de alto impacto, puede ser más adecuado implementarlo como una mejora a mediano plazo después de ajustar los dos puntos anteriores.\n"
      ]
    },
    {
      "cell_type": "markdown",
      "metadata": {
        "id": "7HdG-WTmksCn"
      },
      "source": [
        "#**Implementare primero las dos mejoras: balanceo de clases y optimización de TF-IDF**\n",
        "\n",
        "\n",
        "1. Balanceo de Clases\n",
        "\n",
        "Método seleccionado: SMOTE (Synthetic Minority Over-sampling Technique)\n",
        "Este método generará nuevas instancias sintéticas para la clase minoritaria, reduciendo el desbalance observado.\n",
        "\n",
        "Pasos:\n",
        "Utilizar la biblioteca imbalanced-learn.\n",
        "Sobremuestrear la Clase 1 para igualar la cantidad de muestras a la Clase 0.\n",
        "Entrenar nuevamente el modelo con el conjunto balanceado."
      ]
    },
    {
      "cell_type": "code",
      "execution_count": null,
      "metadata": {
        "colab": {
          "base_uri": "https://localhost:8080/"
        },
        "id": "0TsY86GVlCao",
        "outputId": "fb1666f8-a7e8-4eb5-8a81-18a55a5f766d"
      },
      "outputs": [
        {
          "name": "stdout",
          "output_type": "stream",
          "text": [
            "              precision    recall  f1-score   support\n",
            "\n",
            "           0       0.64      0.76      0.69       474\n",
            "           1       0.85      0.76      0.80       853\n",
            "\n",
            "    accuracy                           0.76      1327\n",
            "   macro avg       0.74      0.76      0.75      1327\n",
            "weighted avg       0.77      0.76      0.76      1327\n",
            "\n"
          ]
        }
      ],
      "source": [
        "from imblearn.over_sampling import SMOTE\n",
        "from sklearn.model_selection import train_test_split\n",
        "from sklearn.naive_bayes import MultinomialNB\n",
        "from sklearn.metrics import classification_report\n",
        "\n",
        "# Separar características y etiquetas\n",
        "X_train, X_test, y_train, y_test = train_test_split(X, y, test_size=0.2, random_state=42)\n",
        "\n",
        "# Aplicar SMOTE para balancear\n",
        "smote = SMOTE(random_state=42)\n",
        "X_resampled, y_resampled = smote.fit_resample(X_train, y_train)\n",
        "\n",
        "# Entrenar modelo con datos balanceados\n",
        "modelo = MultinomialNB()\n",
        "modelo.fit(X_resampled, y_resampled)\n",
        "\n",
        "# Evaluar en datos de prueba\n",
        "y_pred = modelo.predict(X_test)\n",
        "print(classification_report(y_test, y_pred))\n"
      ]
    },
    {
      "cell_type": "code",
      "execution_count": null,
      "metadata": {
        "id": "RZqItAtCnliA"
      },
      "outputs": [],
      "source": []
    },
    {
      "cell_type": "markdown",
      "metadata": {
        "id": "GwLnoE9FmKuq"
      },
      "source": [
        "Concluido el ajuste realizando, el primero de los dos previstos, o sea, Implementar el Balanceo de clases, oy a hacer una presentacion y comparacion de resultados.\n",
        "\n",
        "![image.png](data:image/png;base64,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)\n",
        "\n",
        "Problema detectado:\n",
        "\n",
        "Clase 0: El recall bajo (48%) indica que el modelo no está identificando bien los casos positivos de la clase 0.\n",
        "\n",
        "Clase 1: El recall alto (92%) demuestra que el modelo está favoreciendo la clase mayoritaria (Clase 1).\n",
        "\n",
        "Conclusión preliminar:\n",
        "\n",
        "El modelo está sesgado hacia la clase mayoritaria (Clase 1), ya que no logra capturar bien los ejemplos de la Clase 0 (recall bajo).\n",
        "\n",
        "Por ese motivo se  decide aplicar la herramienta SMOTE para el Balanceo de Clases, con los siguientes resultados obtenidos\n",
        "\n",
        "![image.png](data:image/png;base64,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)\n",
        "\n",
        "\n",
        "##*Que se Observa:*\n",
        "\n",
        "**El recall de la Clase 0 pasó de 0.48 a 0.76.** Esto significa que el modelo ahora detecta muchos más casos positivos de la Clase 0.\n",
        "\n",
        "**La precisión** de la Clase 0 bajó de 0.78 a 0.64, lo cual es un trade-off común: al aumentar la detección de positivos, también crecen los falsos positivos.\n",
        "\n",
        "La Clase 1 se mantiene sólida con métricas aún altas, aunque con un pequeño sacrificio en **precisión.**\n",
        "\n",
        "**Accuracy:** Se mantiene estable en 76%, lo cual indica que el modelo no perdió rendimiento general a pesar de los cambios.\n",
        "\n",
        "#**Conclusión final:**\n",
        "\n",
        "**Resultados positivos:**\n",
        "\n",
        "Aplicar **SMOTE** ha logrado mejorar la detección de la Clase 0 **(recall)**, lo cual era un problema importante en el modelo original. Ahora el modelo balancea mejor el rendimiento entre ambas clases.\n",
        "\n",
        "**¿Qué hacer ahora?:**\n",
        "\n",
        "Se puede intentar mejorar mas el modelo, para ello hay dos ajustes (entre otros), simples para implementar:\n",
        "\n",
        "Ajustar el umbral de decisión para encontrar un mejor equilibrio entre precision y recall.\n",
        "\n",
        "Optimización de TF-IDF: Ajustar los parámetros del vectorizador, como eliminar palabras comunes (stopwords) o limitar la frecuencia mínima y máxima de palabras\n",
        "\n"
      ]
    },
    {
      "cell_type": "markdown",
      "metadata": {
        "id": "zjrzy5Hl2yLN"
      },
      "source": [
        "#**Conclusion**\n",
        "\n",
        "Al aplicar SMOTE, se logro corregir el sesgo hacia la clase mayoritaria, mejorando el recall de la Clase 0 de un 48% a un 76%.\n",
        "\n",
        "Aunque hubo una ligera reducción en la precisión, el modelo ahora es más equilibrado y justo para ambas clases.\n",
        "\n",
        "Esto muestra la importancia de técnicas de balanceo de clases en problemas de clasificación desbalanceada."
      ]
    },
    {
      "cell_type": "markdown",
      "metadata": {
        "id": "9nwMNSGq4mmx"
      },
      "source": [
        "Bibliografia y puntos de Inspiracion\n",
        "\n",
        "\n",
        "Prompt empleado en chatgpt: \" necesito una guia general, paso por paso para desarrollar un notebook para el siguiente tema :\"TEMA 2 CLASIFICACIÓN\n",
        "Determinar si un verso (o estrofa) es del Martín Fierro o del Fausto (Estanislao Lopez)\"\n",
        "\n",
        "\"Introducción al Aprendizaje Automático\" (Aurélien Géron) – Cubre tanto los fundamentos del aprendizaje automático como técnicas específicas para clasificación.\n",
        "\n",
        "\"Aprendizaje Automático con Scikit-Learn y TensorFlow\" (Raúl González Duque) – Enfoque práctico y sencillo para aprender a trabajar con herramientas de clasificación, con ejemplos detallados.\n",
        "\n",
        "Videos\n",
        "\n",
        "\"Introducción al procesamiento de lenguaje natural (NLP) con Python\" (Canal: Data Science en Español)\n",
        "\n",
        "Descripción: Introducción a técnicas básicas de procesamiento de lenguaje natural.\n",
        "\n",
        "\"Clasificación de Textos con Machine Learning\" (Canal: Machine Learning en Español)\n",
        "\n",
        "Descripción: Tutorial paso a paso sobre cómo clasificar textos utilizando TF-IDF y SVM.\n",
        "\n",
        "\"Clasificación de texto con Deep Learning y BERT\" (Canal: Deep Learning en Español)\n",
        "\n",
        "Descripción: Explicación de cómo utilizar BERT para la clasificación de textos en tareas avanzadas de NLP."
      ]
    }
  ],
  "metadata": {
    "colab": {
      "provenance": [],
      "authorship_tag": "ABX9TyOoJsbvmlfBIBxM+zzjRwHG",
      "include_colab_link": true
    },
    "kernelspec": {
      "display_name": "Python 3",
      "name": "python3"
    },
    "language_info": {
      "name": "python"
    }
  },
  "nbformat": 4,
  "nbformat_minor": 0
}