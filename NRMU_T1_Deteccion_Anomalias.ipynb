{
  "cells": [
    {
      "cell_type": "markdown",
      "metadata": {
        "id": "view-in-github",
        "colab_type": "text"
      },
      "source": [
        "<a href=\"https://colab.research.google.com/github/Norberto27/Norberto_ProcDelHabla/blob/main/NRMU_T1_Deteccion_Anomalias.ipynb\" target=\"_parent\"><img src=\"https://colab.research.google.com/assets/colab-badge.svg\" alt=\"Open In Colab\"/></a>"
      ]
    },
    {
      "cell_type": "markdown",
      "metadata": {
        "id": "cf2HzxkWI4Wh"
      },
      "source": [
        "#**1. TÍTULO Y DATOS**\n",
        "\n",
        "#**Título: Detección de Anomalías con Embeddings - Martín Fierro y Fausto**\n",
        "\n",
        "**Opcion 2**\n",
        "\n",
        "#**2. Autor**\n",
        "\n",
        "##**Desarrollador: Norberto Raul Martearena Urquiza**\n",
        "\n",
        "##**Legajo: 11099**\n",
        "\n",
        "##**Fecha: 20/12/2024**\n"
      ]
    },
    {
      "cell_type": "markdown",
      "metadata": {
        "id": "PVelzD7CJ9ut"
      },
      "source": [
        "#**3. Instalación de Librerías**\n",
        "\n",
        "**Librerías Instaladas y sus Funciones**\n",
        "\n",
        "Mas alla de las librerias de las librerias que se puedan utilizar mas adelante, detallo las que usare para este desarrollo:\n",
        "\n",
        "**sentence-transformers**\n",
        "\n",
        "Me permite trabajar con modelos preentrenados de embeddings para texto.\n",
        "Se usa para convertir textos (oraciones, párrafos, etc.) en vectores numéricos que representan su significado. Fundamental para medir similitudes entre textos usando distancias como coseno.\n",
        "\n",
        "**PyPDF2**\n",
        "\n",
        "Esta librería para la  manipulacion de archivos PDF. Permitiendo leer, extraer texto, combinar y dividir archivos PDF.\n",
        "\n",
        "**matplotlib**\n",
        "\n",
        "Librería para la visualización de datos. La utilizo para crear gráficos como histogramas, curvas de similitud, etc.\n",
        "Permite tener una mejor visualizacion para analizar los resultados de la detección de anomalías.\n",
        "\n",
        "**pdfplumber**\n",
        "\n",
        "Es una herramienta especializada en extraer texto de archivos PDF de forma más precisa que PyPDF2, especialmente cuando los PDFs tienen tablas o texto formateados.\n",
        "Complementa o reemplaza a PyPDF2 en situaciones donde la extracción del texto es compleja.\n",
        "\n",
        "**scikit-learn**\n",
        "\n",
        "Librería clave para aprendizaje automático y análisis de datos.\n",
        "Ofrece funciones para dividir datasets, calcular distancias (coseno, euclidiana, etc.), y evaluar modelos de machine learning.\n",
        "Se usará para la detección de anomalías y el cálculo de medidas de similitud.\n",
        "\n",
        "nltk (Natural Language Toolkit)\n",
        "\n",
        "Conjunto de herramientas para procesamiento del lenguaje natural.\n",
        "Permite realizar tareas como tokenización, eliminación de stop words, y otras técnicas de limpieza y análisis de texto.\n",
        "Importante para el preprocesamiento de los textos de Martín Fierro y Fausto.\n"
      ]
    },
    {
      "cell_type": "code",
      "execution_count": null,
      "metadata": {
        "colab": {
          "base_uri": "https://localhost:8080/"
        },
        "id": "GEgLFZmDKJdO",
        "outputId": "25ea2fcb-7785-4b28-c5b2-fb944ad7ed35"
      },
      "outputs": [
        {
          "output_type": "stream",
          "name": "stdout",
          "text": [
            "Requirement already satisfied: sentence-transformers in /usr/local/lib/python3.10/dist-packages (3.2.1)\n",
            "Collecting PyPDF2\n",
            "  Downloading pypdf2-3.0.1-py3-none-any.whl.metadata (6.8 kB)\n",
            "Requirement already satisfied: matplotlib in /usr/local/lib/python3.10/dist-packages (3.8.0)\n",
            "Requirement already satisfied: transformers<5.0.0,>=4.41.0 in /usr/local/lib/python3.10/dist-packages (from sentence-transformers) (4.46.3)\n",
            "Requirement already satisfied: tqdm in /usr/local/lib/python3.10/dist-packages (from sentence-transformers) (4.66.6)\n",
            "Requirement already satisfied: torch>=1.11.0 in /usr/local/lib/python3.10/dist-packages (from sentence-transformers) (2.5.1+cu121)\n",
            "Requirement already satisfied: scikit-learn in /usr/local/lib/python3.10/dist-packages (from sentence-transformers) (1.5.2)\n",
            "Requirement already satisfied: scipy in /usr/local/lib/python3.10/dist-packages (from sentence-transformers) (1.13.1)\n",
            "Requirement already satisfied: huggingface-hub>=0.20.0 in /usr/local/lib/python3.10/dist-packages (from sentence-transformers) (0.26.3)\n",
            "Requirement already satisfied: Pillow in /usr/local/lib/python3.10/dist-packages (from sentence-transformers) (11.0.0)\n",
            "Requirement already satisfied: contourpy>=1.0.1 in /usr/local/lib/python3.10/dist-packages (from matplotlib) (1.3.1)\n",
            "Requirement already satisfied: cycler>=0.10 in /usr/local/lib/python3.10/dist-packages (from matplotlib) (0.12.1)\n",
            "Requirement already satisfied: fonttools>=4.22.0 in /usr/local/lib/python3.10/dist-packages (from matplotlib) (4.55.1)\n",
            "Requirement already satisfied: kiwisolver>=1.0.1 in /usr/local/lib/python3.10/dist-packages (from matplotlib) (1.4.7)\n",
            "Requirement already satisfied: numpy<2,>=1.21 in /usr/local/lib/python3.10/dist-packages (from matplotlib) (1.26.4)\n",
            "Requirement already satisfied: packaging>=20.0 in /usr/local/lib/python3.10/dist-packages (from matplotlib) (24.2)\n",
            "Requirement already satisfied: pyparsing>=2.3.1 in /usr/local/lib/python3.10/dist-packages (from matplotlib) (3.2.0)\n",
            "Requirement already satisfied: python-dateutil>=2.7 in /usr/local/lib/python3.10/dist-packages (from matplotlib) (2.8.2)\n",
            "Requirement already satisfied: filelock in /usr/local/lib/python3.10/dist-packages (from huggingface-hub>=0.20.0->sentence-transformers) (3.16.1)\n",
            "Requirement already satisfied: fsspec>=2023.5.0 in /usr/local/lib/python3.10/dist-packages (from huggingface-hub>=0.20.0->sentence-transformers) (2024.10.0)\n",
            "Requirement already satisfied: pyyaml>=5.1 in /usr/local/lib/python3.10/dist-packages (from huggingface-hub>=0.20.0->sentence-transformers) (6.0.2)\n",
            "Requirement already satisfied: requests in /usr/local/lib/python3.10/dist-packages (from huggingface-hub>=0.20.0->sentence-transformers) (2.32.3)\n",
            "Requirement already satisfied: typing-extensions>=3.7.4.3 in /usr/local/lib/python3.10/dist-packages (from huggingface-hub>=0.20.0->sentence-transformers) (4.12.2)\n",
            "Requirement already satisfied: six>=1.5 in /usr/local/lib/python3.10/dist-packages (from python-dateutil>=2.7->matplotlib) (1.16.0)\n",
            "Requirement already satisfied: networkx in /usr/local/lib/python3.10/dist-packages (from torch>=1.11.0->sentence-transformers) (3.4.2)\n",
            "Requirement already satisfied: jinja2 in /usr/local/lib/python3.10/dist-packages (from torch>=1.11.0->sentence-transformers) (3.1.4)\n",
            "Requirement already satisfied: sympy==1.13.1 in /usr/local/lib/python3.10/dist-packages (from torch>=1.11.0->sentence-transformers) (1.13.1)\n",
            "Requirement already satisfied: mpmath<1.4,>=1.1.0 in /usr/local/lib/python3.10/dist-packages (from sympy==1.13.1->torch>=1.11.0->sentence-transformers) (1.3.0)\n",
            "Requirement already satisfied: regex!=2019.12.17 in /usr/local/lib/python3.10/dist-packages (from transformers<5.0.0,>=4.41.0->sentence-transformers) (2024.9.11)\n",
            "Requirement already satisfied: tokenizers<0.21,>=0.20 in /usr/local/lib/python3.10/dist-packages (from transformers<5.0.0,>=4.41.0->sentence-transformers) (0.20.3)\n",
            "Requirement already satisfied: safetensors>=0.4.1 in /usr/local/lib/python3.10/dist-packages (from transformers<5.0.0,>=4.41.0->sentence-transformers) (0.4.5)\n",
            "Requirement already satisfied: joblib>=1.2.0 in /usr/local/lib/python3.10/dist-packages (from scikit-learn->sentence-transformers) (1.4.2)\n",
            "Requirement already satisfied: threadpoolctl>=3.1.0 in /usr/local/lib/python3.10/dist-packages (from scikit-learn->sentence-transformers) (3.5.0)\n",
            "Requirement already satisfied: MarkupSafe>=2.0 in /usr/local/lib/python3.10/dist-packages (from jinja2->torch>=1.11.0->sentence-transformers) (3.0.2)\n",
            "Requirement already satisfied: charset-normalizer<4,>=2 in /usr/local/lib/python3.10/dist-packages (from requests->huggingface-hub>=0.20.0->sentence-transformers) (3.4.0)\n",
            "Requirement already satisfied: idna<4,>=2.5 in /usr/local/lib/python3.10/dist-packages (from requests->huggingface-hub>=0.20.0->sentence-transformers) (3.10)\n",
            "Requirement already satisfied: urllib3<3,>=1.21.1 in /usr/local/lib/python3.10/dist-packages (from requests->huggingface-hub>=0.20.0->sentence-transformers) (2.2.3)\n",
            "Requirement already satisfied: certifi>=2017.4.17 in /usr/local/lib/python3.10/dist-packages (from requests->huggingface-hub>=0.20.0->sentence-transformers) (2024.8.30)\n",
            "Downloading pypdf2-3.0.1-py3-none-any.whl (232 kB)\n",
            "\u001b[2K   \u001b[90m━━━━━━━━━━━━━━━━━━━━━━━━━━━━━━━━━━━━━━━━\u001b[0m \u001b[32m232.6/232.6 kB\u001b[0m \u001b[31m3.8 MB/s\u001b[0m eta \u001b[36m0:00:00\u001b[0m\n",
            "\u001b[?25hInstalling collected packages: PyPDF2\n",
            "Successfully installed PyPDF2-3.0.1\n",
            "Collecting pdfplumber\n",
            "  Downloading pdfplumber-0.11.4-py3-none-any.whl.metadata (41 kB)\n",
            "\u001b[2K     \u001b[90m━━━━━━━━━━━━━━━━━━━━━━━━━━━━━━━━━━━━━━━━\u001b[0m \u001b[32m42.0/42.0 kB\u001b[0m \u001b[31m1.6 MB/s\u001b[0m eta \u001b[36m0:00:00\u001b[0m\n",
            "\u001b[?25hCollecting pdfminer.six==20231228 (from pdfplumber)\n",
            "  Downloading pdfminer.six-20231228-py3-none-any.whl.metadata (4.2 kB)\n",
            "Requirement already satisfied: Pillow>=9.1 in /usr/local/lib/python3.10/dist-packages (from pdfplumber) (11.0.0)\n",
            "Collecting pypdfium2>=4.18.0 (from pdfplumber)\n",
            "  Downloading pypdfium2-4.30.0-py3-none-manylinux_2_17_x86_64.manylinux2014_x86_64.whl.metadata (48 kB)\n",
            "\u001b[2K     \u001b[90m━━━━━━━━━━━━━━━━━━━━━━━━━━━━━━━━━━━━━━━━\u001b[0m \u001b[32m48.5/48.5 kB\u001b[0m \u001b[31m2.4 MB/s\u001b[0m eta \u001b[36m0:00:00\u001b[0m\n",
            "\u001b[?25hRequirement already satisfied: charset-normalizer>=2.0.0 in /usr/local/lib/python3.10/dist-packages (from pdfminer.six==20231228->pdfplumber) (3.4.0)\n",
            "Requirement already satisfied: cryptography>=36.0.0 in /usr/local/lib/python3.10/dist-packages (from pdfminer.six==20231228->pdfplumber) (43.0.3)\n",
            "Requirement already satisfied: cffi>=1.12 in /usr/local/lib/python3.10/dist-packages (from cryptography>=36.0.0->pdfminer.six==20231228->pdfplumber) (1.17.1)\n",
            "Requirement already satisfied: pycparser in /usr/local/lib/python3.10/dist-packages (from cffi>=1.12->cryptography>=36.0.0->pdfminer.six==20231228->pdfplumber) (2.22)\n",
            "Downloading pdfplumber-0.11.4-py3-none-any.whl (59 kB)\n",
            "\u001b[2K   \u001b[90m━━━━━━━━━━━━━━━━━━━━━━━━━━━━━━━━━━━━━━━━\u001b[0m \u001b[32m59.2/59.2 kB\u001b[0m \u001b[31m4.5 MB/s\u001b[0m eta \u001b[36m0:00:00\u001b[0m\n",
            "\u001b[?25hDownloading pdfminer.six-20231228-py3-none-any.whl (5.6 MB)\n",
            "\u001b[2K   \u001b[90m━━━━━━━━━━━━━━━━━━━━━━━━━━━━━━━━━━━━━━━━\u001b[0m \u001b[32m5.6/5.6 MB\u001b[0m \u001b[31m52.1 MB/s\u001b[0m eta \u001b[36m0:00:00\u001b[0m\n",
            "\u001b[?25hDownloading pypdfium2-4.30.0-py3-none-manylinux_2_17_x86_64.manylinux2014_x86_64.whl (2.8 MB)\n",
            "\u001b[2K   \u001b[90m━━━━━━━━━━━━━━━━━━━━━━━━━━━━━━━━━━━━━━━━\u001b[0m \u001b[32m2.8/2.8 MB\u001b[0m \u001b[31m46.8 MB/s\u001b[0m eta \u001b[36m0:00:00\u001b[0m\n",
            "\u001b[?25hInstalling collected packages: pypdfium2, pdfminer.six, pdfplumber\n",
            "Successfully installed pdfminer.six-20231228 pdfplumber-0.11.4 pypdfium2-4.30.0\n",
            "Requirement already satisfied: scikit-learn in /usr/local/lib/python3.10/dist-packages (1.5.2)\n",
            "Requirement already satisfied: numpy>=1.19.5 in /usr/local/lib/python3.10/dist-packages (from scikit-learn) (1.26.4)\n",
            "Requirement already satisfied: scipy>=1.6.0 in /usr/local/lib/python3.10/dist-packages (from scikit-learn) (1.13.1)\n",
            "Requirement already satisfied: joblib>=1.2.0 in /usr/local/lib/python3.10/dist-packages (from scikit-learn) (1.4.2)\n",
            "Requirement already satisfied: threadpoolctl>=3.1.0 in /usr/local/lib/python3.10/dist-packages (from scikit-learn) (3.5.0)\n",
            "Requirement already satisfied: nltk in /usr/local/lib/python3.10/dist-packages (3.9.1)\n",
            "Requirement already satisfied: click in /usr/local/lib/python3.10/dist-packages (from nltk) (8.1.7)\n",
            "Requirement already satisfied: joblib in /usr/local/lib/python3.10/dist-packages (from nltk) (1.4.2)\n",
            "Requirement already satisfied: regex>=2021.8.3 in /usr/local/lib/python3.10/dist-packages (from nltk) (2024.9.11)\n",
            "Requirement already satisfied: tqdm in /usr/local/lib/python3.10/dist-packages (from nltk) (4.66.6)\n"
          ]
        }
      ],
      "source": [
        "# Procederé a instalar las librerías necesarias para este notebook\n",
        "!pip install sentence-transformers PyPDF2 matplotlib\n",
        "!pip install pdfplumber\n",
        "!pip install scikit-learn\n",
        "!pip install nltk"
      ]
    },
    {
      "cell_type": "markdown",
      "metadata": {
        "id": "DuqoBWzbLBmj"
      },
      "source": [
        "#**4. Introducción**\n",
        "\n",
        "La detección de anomalías es un proceso que identifica datos que no encajan con un conjunto \"normal\".\n",
        "\n",
        "En este notebook, voy a trabajar con el **Martín Fierro** (texto base) y comparar su estilo con el del **Fausto**, otro libro de poesía gauchesca.\n",
        "\n",
        "El objetivo es identificar si los textos del Fausto pueden ser detectados como \"anómalos\" al compararlos con el Martín Fierro, utilizando embeddings de texto y medidas de distancia.\n"
      ]
    },
    {
      "cell_type": "markdown",
      "metadata": {
        "id": "TcDjsqONhEfq"
      },
      "source": [
        "#**5. Carga y Preprocesamiento de Datos**"
      ]
    },
    {
      "cell_type": "code",
      "execution_count": null,
      "metadata": {
        "colab": {
          "base_uri": "https://localhost:8080/"
        },
        "id": "DANz6BfD1TZb",
        "outputId": "67f82ae0-3c7e-4dc3-b880-43cfd8734de2"
      },
      "outputs": [
        {
          "output_type": "stream",
          "name": "stdout",
          "text": [
            "Longitud promedio de fragmentos (Martín Fierro): 29 palabras\n",
            "Primeros fragmentos del Martín Fierro:\n",
            "\n",
            "Fragmento 1:\n",
            "Aquí me pongo a cantar al compás de la vigüela, que el hombre que lo desvela una pena estrordinaria, como la ave solitaria con el cantar se consuela. Pido\n",
            "\n",
            "Fragmento 2:\n",
            "a los santos del cielo que ayuden mi pensamiento: les pido en este momento que voy a cantar mi historia me refresquen la memoria y aclaren mi entendimiento. Vengan\n",
            "\n",
            "Fragmento 3:\n",
            "santos milagrosos, vengan todos en mi ayuda, que la lengua se me añuda y se me turba la vista; pido a mi Dios que me asista en una ocasión\n"
          ]
        }
      ],
      "source": [
        "# Importar librerías necesarias\n",
        "from PyPDF2 import PdfReader\n",
        "import re\n",
        "import requests\n",
        "\n",
        "# Función para limpiar y dividir en estrofas\n",
        "def limpiar_y_dividir_en_estrofas(texto):\n",
        "    inicio_poema = \"Aquí me pongo a cantar\"\n",
        "    if inicio_poema in texto:\n",
        "        texto = texto.split(inicio_poema, 1)[1]\n",
        "        texto = inicio_poema + texto  # Asegurar que comienza correctamente\n",
        "\n",
        "    texto = re.sub(r'Recursos de dominio público.*?Página \\d+', '', texto, flags=re.DOTALL)\n",
        "    texto = re.sub(r'El gaucho Martín Fierro', '', texto, flags=re.IGNORECASE)\n",
        "    texto = re.sub(r'José Hernández', '', texto, flags=re.IGNORECASE)\n",
        "    texto = re.sub(r'Imágenes de dominio público.*', '', texto, flags=re.DOTALL)\n",
        "    texto = re.sub(r'\\b(I|II|III|IV|V|VI|VII|VIII|IX|X|XI|XII|XIII)\\b', '', texto)\n",
        "    texto = re.sub(r'\\b(página|Página)\\b.*?\\d+', '', texto)\n",
        "    texto = re.sub(r'\\n+', '\\n', texto).strip()\n",
        "\n",
        "    lineas = [linea.strip() for linea in texto.split(\"\\n\") if linea.strip()]\n",
        "\n",
        "    estrofas = []\n",
        "    estrofa = []\n",
        "\n",
        "    for linea in lineas:\n",
        "        estrofa.append(linea)\n",
        "        if len(estrofa) == 6:\n",
        "            estrofas.append(\"\\n\".join(estrofa))\n",
        "            estrofa = []\n",
        "\n",
        "    if estrofa:\n",
        "        estrofas.append(\"\\n\".join(estrofa))\n",
        "\n",
        "    return estrofas\n",
        "\n",
        "# Descargar el poema\n",
        "url = \"https://www.argentina.gob.ar/sites/default/files/hernandez_jose_-_el_gaucho_martin_fierro.pdf\"\n",
        "response = requests.get(url)\n",
        "\n",
        "# Guardar el PDF\n",
        "with open(\"martin_fierro.pdf\", \"wb\") as f:\n",
        "    f.write(response.content)\n",
        "\n",
        "# Leer y procesar el texto\n",
        "reader_mf = PdfReader(\"martin_fierro.pdf\")\n",
        "texto_mf = \" \".join([page.extract_text() for page in reader_mf.pages])\n",
        "estrofas_mf = limpiar_y_dividir_en_estrofas(texto_mf)\n",
        "\n",
        "# Calcular longitud promedio de fragmentos\n",
        "longitudes_mf = [len(estrofa.split()) for estrofa in estrofas_mf]\n",
        "longitud_promedio = int(sum(longitudes_mf) / len(longitudes_mf))\n",
        "print(f\"Longitud promedio de fragmentos (Martín Fierro): {longitud_promedio} palabras\")\n",
        "\n",
        "# Dividir en fragmentos uniformes\n",
        "def dividir_en_fragmentos(texto, tamaño_fragmento):\n",
        "    palabras = texto.split()\n",
        "    return [\n",
        "        \" \".join(palabras[i:i + tamaño_fragmento])\n",
        "        for i in range(0, len(palabras), tamaño_fragmento)\n",
        "    ]\n",
        "\n",
        "fragmentos_mf = dividir_en_fragmentos(\" \".join(estrofas_mf), longitud_promedio)\n",
        "print(\"Primeros fragmentos del Martín Fierro:\")\n",
        "for i, fragmento in enumerate(fragmentos_mf[:3]):\n",
        "    print(f\"\\nFragmento {i+1}:\\n{fragmento}\")\n",
        "\n",
        "\n",
        "\n"
      ]
    },
    {
      "cell_type": "markdown",
      "source": [
        "Ahora voy a cargar el  texto sobre FAUSTO.\n",
        "\n",
        "Previamente de entre todas las versiones disponibles que detecte en internet selecciones la siguiente\n",
        "Biblioteca Virtual Miguel de Cervantes\n",
        "https://www.cervantesvirtual.com/obra/fausto-seguido-de-poesias-…\n",
        "Fausto : seguido de Poesías completas / Estanislao del Campo\n",
        "lo descargue a mi computadora y procedi en este bloque a\n",
        "subirlo al entorno de gogle colab y luego lo cargue en el notebook.\n"
      ],
      "metadata": {
        "id": "Ce9NVGsJWssn"
      }
    },
    {
      "cell_type": "code",
      "source": [
        "from google.colab import files\n",
        "uploaded = files.upload()\n"
      ],
      "metadata": {
        "colab": {
          "base_uri": "https://localhost:8080/",
          "height": 73
        },
        "id": "FoTBOQkCXBp2",
        "outputId": "b0ef4714-7da1-4ad9-db87-bfadd5a3f967"
      },
      "execution_count": null,
      "outputs": [
        {
          "output_type": "display_data",
          "data": {
            "text/plain": [
              "<IPython.core.display.HTML object>"
            ],
            "text/html": [
              "\n",
              "     <input type=\"file\" id=\"files-0589bf3b-269e-497d-9f8d-f77119fb39c2\" name=\"files[]\" multiple disabled\n",
              "        style=\"border:none\" />\n",
              "     <output id=\"result-0589bf3b-269e-497d-9f8d-f77119fb39c2\">\n",
              "      Upload widget is only available when the cell has been executed in the\n",
              "      current browser session. Please rerun this cell to enable.\n",
              "      </output>\n",
              "      <script>// Copyright 2017 Google LLC\n",
              "//\n",
              "// Licensed under the Apache License, Version 2.0 (the \"License\");\n",
              "// you may not use this file except in compliance with the License.\n",
              "// You may obtain a copy of the License at\n",
              "//\n",
              "//      http://www.apache.org/licenses/LICENSE-2.0\n",
              "//\n",
              "// Unless required by applicable law or agreed to in writing, software\n",
              "// distributed under the License is distributed on an \"AS IS\" BASIS,\n",
              "// WITHOUT WARRANTIES OR CONDITIONS OF ANY KIND, either express or implied.\n",
              "// See the License for the specific language governing permissions and\n",
              "// limitations under the License.\n",
              "\n",
              "/**\n",
              " * @fileoverview Helpers for google.colab Python module.\n",
              " */\n",
              "(function(scope) {\n",
              "function span(text, styleAttributes = {}) {\n",
              "  const element = document.createElement('span');\n",
              "  element.textContent = text;\n",
              "  for (const key of Object.keys(styleAttributes)) {\n",
              "    element.style[key] = styleAttributes[key];\n",
              "  }\n",
              "  return element;\n",
              "}\n",
              "\n",
              "// Max number of bytes which will be uploaded at a time.\n",
              "const MAX_PAYLOAD_SIZE = 100 * 1024;\n",
              "\n",
              "function _uploadFiles(inputId, outputId) {\n",
              "  const steps = uploadFilesStep(inputId, outputId);\n",
              "  const outputElement = document.getElementById(outputId);\n",
              "  // Cache steps on the outputElement to make it available for the next call\n",
              "  // to uploadFilesContinue from Python.\n",
              "  outputElement.steps = steps;\n",
              "\n",
              "  return _uploadFilesContinue(outputId);\n",
              "}\n",
              "\n",
              "// This is roughly an async generator (not supported in the browser yet),\n",
              "// where there are multiple asynchronous steps and the Python side is going\n",
              "// to poll for completion of each step.\n",
              "// This uses a Promise to block the python side on completion of each step,\n",
              "// then passes the result of the previous step as the input to the next step.\n",
              "function _uploadFilesContinue(outputId) {\n",
              "  const outputElement = document.getElementById(outputId);\n",
              "  const steps = outputElement.steps;\n",
              "\n",
              "  const next = steps.next(outputElement.lastPromiseValue);\n",
              "  return Promise.resolve(next.value.promise).then((value) => {\n",
              "    // Cache the last promise value to make it available to the next\n",
              "    // step of the generator.\n",
              "    outputElement.lastPromiseValue = value;\n",
              "    return next.value.response;\n",
              "  });\n",
              "}\n",
              "\n",
              "/**\n",
              " * Generator function which is called between each async step of the upload\n",
              " * process.\n",
              " * @param {string} inputId Element ID of the input file picker element.\n",
              " * @param {string} outputId Element ID of the output display.\n",
              " * @return {!Iterable<!Object>} Iterable of next steps.\n",
              " */\n",
              "function* uploadFilesStep(inputId, outputId) {\n",
              "  const inputElement = document.getElementById(inputId);\n",
              "  inputElement.disabled = false;\n",
              "\n",
              "  const outputElement = document.getElementById(outputId);\n",
              "  outputElement.innerHTML = '';\n",
              "\n",
              "  const pickedPromise = new Promise((resolve) => {\n",
              "    inputElement.addEventListener('change', (e) => {\n",
              "      resolve(e.target.files);\n",
              "    });\n",
              "  });\n",
              "\n",
              "  const cancel = document.createElement('button');\n",
              "  inputElement.parentElement.appendChild(cancel);\n",
              "  cancel.textContent = 'Cancel upload';\n",
              "  const cancelPromise = new Promise((resolve) => {\n",
              "    cancel.onclick = () => {\n",
              "      resolve(null);\n",
              "    };\n",
              "  });\n",
              "\n",
              "  // Wait for the user to pick the files.\n",
              "  const files = yield {\n",
              "    promise: Promise.race([pickedPromise, cancelPromise]),\n",
              "    response: {\n",
              "      action: 'starting',\n",
              "    }\n",
              "  };\n",
              "\n",
              "  cancel.remove();\n",
              "\n",
              "  // Disable the input element since further picks are not allowed.\n",
              "  inputElement.disabled = true;\n",
              "\n",
              "  if (!files) {\n",
              "    return {\n",
              "      response: {\n",
              "        action: 'complete',\n",
              "      }\n",
              "    };\n",
              "  }\n",
              "\n",
              "  for (const file of files) {\n",
              "    const li = document.createElement('li');\n",
              "    li.append(span(file.name, {fontWeight: 'bold'}));\n",
              "    li.append(span(\n",
              "        `(${file.type || 'n/a'}) - ${file.size} bytes, ` +\n",
              "        `last modified: ${\n",
              "            file.lastModifiedDate ? file.lastModifiedDate.toLocaleDateString() :\n",
              "                                    'n/a'} - `));\n",
              "    const percent = span('0% done');\n",
              "    li.appendChild(percent);\n",
              "\n",
              "    outputElement.appendChild(li);\n",
              "\n",
              "    const fileDataPromise = new Promise((resolve) => {\n",
              "      const reader = new FileReader();\n",
              "      reader.onload = (e) => {\n",
              "        resolve(e.target.result);\n",
              "      };\n",
              "      reader.readAsArrayBuffer(file);\n",
              "    });\n",
              "    // Wait for the data to be ready.\n",
              "    let fileData = yield {\n",
              "      promise: fileDataPromise,\n",
              "      response: {\n",
              "        action: 'continue',\n",
              "      }\n",
              "    };\n",
              "\n",
              "    // Use a chunked sending to avoid message size limits. See b/62115660.\n",
              "    let position = 0;\n",
              "    do {\n",
              "      const length = Math.min(fileData.byteLength - position, MAX_PAYLOAD_SIZE);\n",
              "      const chunk = new Uint8Array(fileData, position, length);\n",
              "      position += length;\n",
              "\n",
              "      const base64 = btoa(String.fromCharCode.apply(null, chunk));\n",
              "      yield {\n",
              "        response: {\n",
              "          action: 'append',\n",
              "          file: file.name,\n",
              "          data: base64,\n",
              "        },\n",
              "      };\n",
              "\n",
              "      let percentDone = fileData.byteLength === 0 ?\n",
              "          100 :\n",
              "          Math.round((position / fileData.byteLength) * 100);\n",
              "      percent.textContent = `${percentDone}% done`;\n",
              "\n",
              "    } while (position < fileData.byteLength);\n",
              "  }\n",
              "\n",
              "  // All done.\n",
              "  yield {\n",
              "    response: {\n",
              "      action: 'complete',\n",
              "    }\n",
              "  };\n",
              "}\n",
              "\n",
              "scope.google = scope.google || {};\n",
              "scope.google.colab = scope.google.colab || {};\n",
              "scope.google.colab._files = {\n",
              "  _uploadFiles,\n",
              "  _uploadFilesContinue,\n",
              "};\n",
              "})(self);\n",
              "</script> "
            ]
          },
          "metadata": {}
        },
        {
          "output_type": "stream",
          "name": "stdout",
          "text": [
            "Saving faustoPoesiasCompletas.pdf to faustoPoesiasCompletas.pdf\n"
          ]
        }
      ]
    },
    {
      "cell_type": "markdown",
      "source": [
        ". Usar Google Drive\n",
        "\n",
        "Una opción más avanzada y conveniente es montar mi Google Drive en Colab para poder acceder a los archivos de forma más fluida.\n",
        "\n",
        "para montar Google Drive en Colab con el siguiente código:\n",
        "\n",
        "\n",
        "from google.colab import drive\n",
        "drive.mount('/content/drive')\n",
        "\n",
        "Esto me dará acceso a los archivos que tenga en mi Google Drive, lo que incluye la carpeta Downloads si la tengo sincronizada con Google Drive.\n",
        "\n"
      ],
      "metadata": {
        "id": "zkEh_aDdYPPz"
      }
    },
    {
      "cell_type": "markdown",
      "source": [
        "Este bloque tiene como objetivo principal cargar, procesar y estructurar el texto del Fausto para integrarlo al análisis comparativo de similitudes con el texto del Martín Fierro. Aquí se detallan los pasos y las decisiones tomadas, con su respectiva justificación.\n",
        "\n"
      ],
      "metadata": {
        "id": "VGpn-6DfV4HB"
      }
    },
    {
      "cell_type": "code",
      "execution_count": null,
      "metadata": {
        "id": "hKnMw2eYEy1c",
        "colab": {
          "base_uri": "https://localhost:8080/"
        },
        "outputId": "45ac3a43-2f3d-4cc1-fd55-3af4597b1d25"
      },
      "outputs": [
        {
          "output_type": "stream",
          "name": "stdout",
          "text": [
            "Primeros fragmentos del Fausto:\n",
            "\n",
            "Fragmento 1:\n",
            "FAUSTO 43 Paisano Aniceto el Callo, Puede sin cuidao vivir, Que primero han de decir Que la viscacha es caballo, Y que la gramilla es tallo, Y que el\n",
            "\n",
            "Fragmento 2:\n",
            "ombú es verdolaga, Y que es sauce la biznaga, Y que son montes los yuyos, Que asigurar que son suyos Los trjstes versos que yo haga. Adiós gaucho payador\n",
            "\n",
            "Fragmento 3:\n",
            "Del ejército unitario; Adiós paisano ño Hilario, Adiós projundo cantor, Adiós pingo cociador, Que a tiranos has pateao, Y que hasta a mí me has largao De pronto un\n"
          ]
        }
      ],
      "source": [
        "# Importar las librerías necesarias\n",
        "from PyPDF2 import PdfReader\n",
        "import re\n",
        "\n",
        "# Ruta al archivo del Fausto\n",
        "ruta_fausto = \"faustoPoesiasCompletas.pdf\"\n",
        "\n",
        "# Leer el archivo PDF\n",
        "reader_fausto = PdfReader(ruta_fausto)\n",
        "\n",
        "texto_fausto = \" \".join([page.extract_text() for page in reader_fausto.pages[12:]])\n",
        "\n",
        "# Truncar el texto en el punto final relevante\n",
        "texto_fausto_truncado = texto_fausto.split(\"En sanguinarios excesos, Por mal entendido honor\")[0]\n",
        "\n",
        "# Función para limpieza básica del texto\n",
        "def limpiar_texto_completo(texto):\n",
        "    texto = re.sub(r\"Estanislao.*?López\", \"\", texto, flags=re.IGNORECASE)\n",
        "    texto = re.sub(r'\\b(página|Página)\\b.*?\\d+', '', texto)\n",
        "    texto = re.sub(r'\\n+', '\\n', texto).strip()\n",
        "    return texto\n",
        "\n",
        "# Aplicar limpieza\n",
        "texto_fausto_limpio = limpiar_texto_completo(texto_fausto_truncado)\n",
        "\n",
        "# Dividir en fragmentos uniformes (mismo tamaño que Martín Fierro)\n",
        "fragmentos_fausto = dividir_en_fragmentos(texto_fausto_limpio, longitud_promedio)\n",
        "print(\"Primeros fragmentos del Fausto:\")\n",
        "for i, fragmento in enumerate(fragmentos_fausto[:3]):\n",
        "    print(f\"\\nFragmento {i+1}:\\n{fragmento}\")\n",
        "\n"
      ]
    },
    {
      "cell_type": "markdown",
      "source": [
        "LIBRERIAS UTILIZADAS:\n",
        "\n",
        "**PyPDF2:**\n",
        "\n",
        "Es una librería eficiente para extraer texto de archivos PDF, permitiendo procesar documentos literarios en este formato.\n",
        "\n",
        "**re:**\n",
        "\n",
        "Es fundamental para realizar tareas de limpieza y manipulación de texto mediante expresiones regulares, eliminando elementos irrelevantes como referencias o numeración de páginas.\n",
        "\n",
        "Se omiten las primeras 12 páginas del PDF porque, tras una revisión inicial del documento, se identificó que contienen índices, prólogos y contenido irrelevante para el análisis.\n",
        "\n",
        "El uso de una comprensión de listas permite consolidar el texto de todas las páginas relevantes en una sola cadena de texto. Esto es esencial para garantizar un análisis coherente y continuo.\n",
        "\n",
        "El truncamiento se realiza en el punto identificado como final relevante del texto, asegurando que el contenido procesado sea representativo y no incluya información adicional fuera de contexto (como apéndices o notas).\n",
        "Esta decisión se basa en una revisión manual del contenido del Fausto, que estableció este punto como límite adecuado.\n",
        "\n",
        "lIMPIEZA DEL TEXTO:\n",
        "\n",
        "Eliminar menciones específicas: Se identificaron nombres como \"Estanislao López\" que aparecen repetidamente, pero que no aportan valor al análisis textual. Estas menciones son eliminadas para limpiar el texto.\n",
        "Eliminar numeración de páginas: Las referencias de páginas son irrelevantes para el análisis de similitud y se eliminan con una expresión regular.\n",
        "Eliminar saltos de línea múltiples: Esto mejora la legibilidad y asegura una estructura uniforme del texto.\n",
        "\n",
        "División en Fragmentos\n",
        "\n",
        "La función dividir_en_fragmentos ya fue definida previamente para procesar el Martín Fierro, y aquí se reutiliza para mantener un enfoque uniforme en la longitud de los fragmentos.\n",
        "\n",
        "Tamaño uniforme: Dividir ambos textos en fragmentos de longitud similar es crucial para garantizar una comparación equitativa en el análisis de similitud.\n",
        "\n",
        "iNSPECCION DE LOS PRIMEROS FRAGMENTOS\n",
        "\n",
        "Se muestran los primeros fragmentos como parte del proceso de inspección inicial. Esto permite verificar que la limpieza y la segmentación se realizaron correctamente.\n",
        "\n",
        "En este caso, los fragmentos revelan un formato estructurado que facilita el análisis posterior.\n",
        "\n",
        "Los fragmentos presentan un formato adecuado, aunque se detectan algunos errores tipográficos (\"trjstes\" y \"cociad\") provenientes del OCR del PDF.\n",
        "Este texto será vectorizado y analizado junto con el Martín Fierro para evaluar similitudes y detectar posibles anomalías.\n",
        "\n",
        "Posibles Mejoras\n",
        "\n",
        "Aplicar una etapa de corrección ortográfica para solucionar errores tipográficos provenientes del OCR.\n",
        "\n",
        "Revisar si se puede ajustar el tamaño de los fragmentos para mejorar la representatividad y la calidad del análisis de similitud.\n"
      ],
      "metadata": {
        "id": "eAtWwZd53NmU"
      }
    },
    {
      "cell_type": "markdown",
      "source": [
        "#**6. División de Datos**\n",
        "\n",
        "#**División en Conjuntos de Entrenamiento y Prueba**\n",
        "\n",
        "\n",
        "**División de Datos***\n",
        "\n",
        "Dado que he decidido trabajar con el texto completo del Fausto como una única unidad, la división de datos debe alinearse con esta decisión. Aquí se presenta cómo  estructurar este proceso, en particular para preparar los datos para el análisis de anomalías:\n",
        "\n",
        "**División de Datos para Análisis:**\n",
        "\n",
        "Se separará el texto en dos subconjuntos principales:\n",
        "Entrenamiento: Para modelar el comportamiento normal de las características del texto.\n",
        "\n",
        "Prueba: Para evaluar el modelo y detectar posibles anomalías.\n",
        "La división se realizará sobre fragmentos consecutivos del texto, asegurando que el contexto global no se pierda.\n"
      ],
      "metadata": {
        "id": "UPgASZFHW2cP"
      }
    },
    {
      "cell_type": "code",
      "source": [
        "from sklearn.model_selection import train_test_split\n",
        "\n",
        "# División del Martín Fierro\n",
        "fragmentos_entrenamiento, fragmentos_prueba_mf = train_test_split(\n",
        "    fragmentos_mf, test_size=0.2, random_state=42\n",
        ")\n",
        "\n",
        "# Agregar los fragmentos del Fausto al conjunto de prueba\n",
        "fragmentos_prueba = fragmentos_prueba_mf + fragmentos_fausto\n",
        "\n",
        "print(f\"Fragmentos de entrenamiento: {len(fragmentos_entrenamiento)}\")\n",
        "print(f\"Fragmentos de prueba: {len(fragmentos_prueba)}\")\n",
        "\n"
      ],
      "metadata": {
        "colab": {
          "base_uri": "https://localhost:8080/"
        },
        "id": "9H17nk5sY2QO",
        "outputId": "52efae6e-c555-4ce0-d69f-5cb7869d3571"
      },
      "execution_count": null,
      "outputs": [
        {
          "output_type": "stream",
          "name": "stdout",
          "text": [
            "Fragmentos de entrenamiento: 313\n",
            "Fragmentos de prueba: 874\n"
          ]
        }
      ]
    },
    {
      "cell_type": "markdown",
      "source": [
        "Explicación de los Pasos\n",
        "\n",
        "Fragmentación del Texto Completo:\n",
        "\n",
        "En esta etapa del proyecto, se llevó a cabo la preparación y división de los datos textuales del Martín Fierro y el Fausto para su uso en el modelo de análisis textual.\n",
        "\n",
        "El objetivo principal fue estructurar los datos de manera que permitan tanto un entrenamiento efectivo como una evaluación robusta del modelo.\n",
        "\n",
        "Descripción del Proceso\n",
        "\n",
        "División del Corpus del Martín Fierro:\n",
        "\n",
        "Se utilizó el método train_test_split para dividir los fragmentos textuales en dos conjuntos:\n",
        "\n",
        "**Entrenamiento (80%):** Fragmentos destinados a la construcción del modelo, asegurando que este aprenda patrones relevantes del corpus.\n",
        "\n",
        "**Prueba (20%):** Fragmentos reservados para evaluar el desempeño del modelo en textos similares, pero no incluidos en el entrenamiento.\n",
        "\n",
        "La división se realizó con un random_state fijo para garantizar reproducibilidad.\n",
        "\n",
        "Incorporación del Fausto al Conjunto de Prueba:\n",
        "\n",
        "Los fragmentos previamente procesados del Fausto se integraron al conjunto de prueba.\n",
        "\n",
        "Esto permitió evaluar el modelo en un contexto más diverso, incluyendo textos de diferente naturaleza lingüística, temática y estilística.\n",
        "\n",
        "Estrategia de Evaluación:\n",
        "\n",
        "La inclusión de textos tanto internos (Martín Fierro) como externos (Fausto) en el conjunto de prueba permite medir:\n",
        "\n",
        "La capacidad del modelo de generalizar patrones aprendidos.\n",
        "\n",
        "Su robustez para identificar diferencias contextuales y detectar fragmentos anómalos o \"fuera de dominio\".\n",
        "\n",
        "Resultados Preliminares:\n",
        "\n",
        "Cantidad de Fragmentos:\n",
        "\n",
        "Conjunto de entrenamiento: Representativo del Martín Fierro (80% de los datos originales).\n",
        "\n",
        "Conjunto de prueba: Combinación de fragmentos del Martín Fierro (20%) y del Fausto (100%).\n",
        "\n",
        "Justificación del Enfoque\n",
        "\n",
        "Eficiencia en el Entrenamiento: La mayoría de los datos del Martín Fierro se destinan al entrenamiento para garantizar que el modelo tenga un corpus amplio y representativo del cual aprender.\n",
        "\n",
        "Diversidad en la Prueba: La incorporación de un corpus externo (el Fausto) al conjunto de prueba introduce un desafío adicional al modelo, simulando escenarios reales donde este debe analizar textos heterogéneos.\n",
        "\n",
        "Equilibrio en la Evaluación: Esta estrategia permite medir no solo la precisión del modelo en datos similares, sino también su capacidad para manejar textos distintos, una habilidad crucial en aplicaciones prácticas.\n",
        "\n",
        "Conclusión\n",
        "\n",
        "Este proceso asegura una estructura de datos sólida y equilibrada que maximiza la capacidad del modelo para aprender y generalizar, mientras que proporciona una evaluación realista y robusta de su desempeño"
      ],
      "metadata": {
        "id": "6K245Cp8ZWRi"
      }
    },
    {
      "cell_type": "markdown",
      "source": [
        "#**7: Vectorización del Dataset**\n",
        "\n",
        "La vectorización es un paso esencial en el procesamiento de textos, ya que convierte datos textuales en una representación numérica que los modelos de aprendizaje automático pueden interpretar. En este caso, se emplea TF-IDF (Term Frequency-Inverse Document Frequency), una técnica ampliamente utilizada para representar texto en un espacio de características numéricas.\n",
        "\n",
        "Descripción del Proceso\n",
        "Modelo de Embeddings Utilizado:\n",
        "\n",
        "Se seleccionó TF-IDF como método de vectorización, configurando el número de características a un máximo de 500 (max_features=500). Esto garantiza que el vector resultante sea manejable y adecuado para el tamaño del dataset.\n",
        "Entrenamiento del Vectorizador:\n",
        "\n",
        "El modelo fue entrenado exclusivamente con los fragmentos del conjunto de entrenamiento (Martín Fierro), asegurando que los valores de TF-IDF reflejen las frecuencias relativas dentro de este corpus.\n",
        "Transformación de los Conjuntos:\n",
        "\n",
        "Tanto los fragmentos de entrenamiento como los de prueba fueron vectorizados. Esto resulta en dos matrices dispersas, donde cada fila representa un fragmento y cada columna, la relevancia de un término específico.\n",
        "Justificación del Enfoque TF-IDF\n",
        "Simplicidad y Eficiencia:\n",
        "\n",
        "TF-IDF es un modelo simple pero poderoso que calcula la importancia de cada palabra en el contexto del documento y del corpus completo. Este enfoque evita ruido al reducir el peso de palabras comunes y poco informativas.\n",
        "Adaptación al Tamaño del Dataset:\n",
        "\n",
        "Para datasets medianos como el actual, TF-IDF es una opción eficiente que no requiere preentrenamiento ni grandes recursos computacionales.\n",
        "Compatibilidad con la Detección de Anomalías:\n",
        "\n",
        "La representación vectorial generada por TF-IDF se ajusta bien a métricas de similitud, como la similitud coseno, facilitando la identificación de patrones y detección de fragmentos anómalos"
      ],
      "metadata": {
        "id": "QAnie70jcK8x"
      }
    },
    {
      "cell_type": "code",
      "source": [
        "from sklearn.feature_extraction.text import TfidfVectorizer\n",
        "\n",
        "# Entrenar el modelo de embeddings (TF-IDF)\n",
        "vectorizer = TfidfVectorizer(max_features=500)\n",
        "vectorizer.fit(fragmentos_entrenamiento)\n",
        "\n",
        "# Vectorizar ambos conjuntos\n",
        "X_entrenamiento = vectorizer.transform(fragmentos_entrenamiento)\n",
        "X_prueba = vectorizer.transform(fragmentos_prueba)\n"
      ],
      "metadata": {
        "id": "T5dZwt_rc8Co"
      },
      "execution_count": null,
      "outputs": []
    },
    {
      "cell_type": "markdown",
      "source": [
        "Resultados de la Vectorización\n",
        "El conjunto de entrenamiento y el conjunto de prueba han sido transformados en matrices numéricas dispersas con un tamaño máximo de 500 características por fragmento.\n",
        "Estas matrices están listas para ser utilizadas en cálculos de similitud y análisis posteriores.\n",
        "Comparación con Embeddings Preentrenados\n",
        "Ventajas de TF-IDF en Este Caso:\n",
        "\n",
        "Es específico del corpus y refleja directamente las relaciones léxicas y estadísticas dentro del texto del Martín Fierro.\n",
        "No depende de modelos externos, asegurando mayor control sobre el proceso.\n",
        "Permite realizar análisis basados en términos individuales, ideal cuando las palabras tienen un peso literario particular, como en textos poéticos.\n",
        "Consideraciones:\n",
        "\n",
        "Aunque TF-IDF no captura relaciones contextuales profundas como los embeddings preentrenados, es adecuado para tareas donde las frecuencias relativas de términos son cruciales para el análisis, como en la identificación de fragmentos anómalos.\n",
        "\n",
        "**Conclusión**\n",
        "\n",
        "La elección de TF-IDF como técnica de vectorización equilibra simplicidad, eficiencia y adecuación al corpus. Esto lo convierte en una solución robusta para representar los textos poéticos en este análisis específico. Sin embargo, se podría considerar incorporar embeddings preentrenados en iteraciones futuras para enriquecer las representaciones semánticas y explorar relaciones más complejas entre fragmentoss\n"
      ],
      "metadata": {
        "id": "LfDtwBNQdT4o"
      }
    },
    {
      "cell_type": "markdown",
      "source": [
        "#**8 Resolucion del tema**\n",
        "\n",
        "#**Medidas de Similitud y Detección de Anomalías**\n",
        "\n",
        "1. Medidas de Similitud\n",
        "\n",
        "Para comparar las poesías entre sí y con el modelo entrenado, se utilizará la distancia coseno, que mide la similitud entre dos vectores basándose en el ángulo entre ellos. La distancia coseno es particularmente adecuada para textos debido a su enfoque en la orientación del vector, ignorando la magnitud.\n",
        "\n",
        "**Ventajas de la distancia coseno:**\n",
        "\n",
        "Es menos sensible a las diferencias de magnitud entre los vectores.\n",
        "Captura relaciones semánticas más relevantes en textos.\n",
        "\n",
        "**Alternativas y sus limitaciones:**\n",
        "\n",
        "**Distancia Euclidiana:** Se basa en la longitud absoluta entre dos puntos, lo que puede introducir ruido en textos con vectores de diferentes magnitudes.\n",
        "\n",
        "**Distancia Manhattan:** Similar a la Euclidiana, pero menos eficiente para datos de alta dimensión como embeddings.\n",
        "\n",
        "**2. Detección de Anomalías**\n",
        "La estrategia consiste en:\n",
        "\n",
        "**Calcular similitudes:** Usar la distancia coseno para comparar cada poesía del Fausto con el modelo base generado del Martín Fierro.\n",
        "\n",
        "**Definir un umbral de similitud:** Un valor bajo de similitud indica que una poesía es \"anómala\" o diferente.\n",
        "\n",
        "**Clasificar textos:** Aquellos cuya similitud esté por debajo del umbral serán marcados como anómalos.\n",
        "\n",
        "**Ventajas de este enfoque:**\n",
        "\n",
        "Usa una medida intuitiva para capturar similitudes globales.\n",
        "\n",
        "Es flexible para adaptar el umbral según los requerimientos.\n",
        "\n",
        "Es eficiente y escalable.\n",
        "\n",
        "\n"
      ],
      "metadata": {
        "id": "z6Sx7MJZdcnl"
      }
    },
    {
      "cell_type": "code",
      "source": [
        "# Importar librerías necesarias\n",
        "from sklearn.metrics.pairwise import cosine_similarity\n",
        "import numpy as np\n",
        "\n",
        "from sklearn.metrics.pairwise import cosine_similarity\n",
        "\n",
        "# Calcular similitudes coseno\n",
        "similitudes = cosine_similarity(X_prueba, X_entrenamiento)\n",
        "\n",
        "# Detectar anomalías según un umbral\n",
        "umbral = 0.8\n",
        "anomalías = [i for i, fila in enumerate(similitudes) if max(fila) < umbral]\n",
        "\n",
        "print(f\"Fragmentos detectados como anómalos: {len(anomalías)}\")\n",
        "print(f\"Índices de fragmentos anómalos: {anomalías}\")\n",
        "\n",
        "# Extraer y analizar fragmentos anómalos\n",
        "fragmentos_anómalos = [fragmentos_prueba[i] for i in anomalías]\n",
        "\n"
      ],
      "metadata": {
        "colab": {
          "base_uri": "https://localhost:8080/"
        },
        "id": "e6EYVPUGekBE",
        "outputId": "5fe5aba4-8b7d-4cad-9331-0a9746dc1589"
      },
      "execution_count": null,
      "outputs": [
        {
          "output_type": "stream",
          "name": "stdout",
          "text": [
            "Fragmentos detectados como anómalos: 874\n",
            "Índices de fragmentos anómalos: [0, 1, 2, 3, 4, 5, 6, 7, 8, 9, 10, 11, 12, 13, 14, 15, 16, 17, 18, 19, 20, 21, 22, 23, 24, 25, 26, 27, 28, 29, 30, 31, 32, 33, 34, 35, 36, 37, 38, 39, 40, 41, 42, 43, 44, 45, 46, 47, 48, 49, 50, 51, 52, 53, 54, 55, 56, 57, 58, 59, 60, 61, 62, 63, 64, 65, 66, 67, 68, 69, 70, 71, 72, 73, 74, 75, 76, 77, 78, 79, 80, 81, 82, 83, 84, 85, 86, 87, 88, 89, 90, 91, 92, 93, 94, 95, 96, 97, 98, 99, 100, 101, 102, 103, 104, 105, 106, 107, 108, 109, 110, 111, 112, 113, 114, 115, 116, 117, 118, 119, 120, 121, 122, 123, 124, 125, 126, 127, 128, 129, 130, 131, 132, 133, 134, 135, 136, 137, 138, 139, 140, 141, 142, 143, 144, 145, 146, 147, 148, 149, 150, 151, 152, 153, 154, 155, 156, 157, 158, 159, 160, 161, 162, 163, 164, 165, 166, 167, 168, 169, 170, 171, 172, 173, 174, 175, 176, 177, 178, 179, 180, 181, 182, 183, 184, 185, 186, 187, 188, 189, 190, 191, 192, 193, 194, 195, 196, 197, 198, 199, 200, 201, 202, 203, 204, 205, 206, 207, 208, 209, 210, 211, 212, 213, 214, 215, 216, 217, 218, 219, 220, 221, 222, 223, 224, 225, 226, 227, 228, 229, 230, 231, 232, 233, 234, 235, 236, 237, 238, 239, 240, 241, 242, 243, 244, 245, 246, 247, 248, 249, 250, 251, 252, 253, 254, 255, 256, 257, 258, 259, 260, 261, 262, 263, 264, 265, 266, 267, 268, 269, 270, 271, 272, 273, 274, 275, 276, 277, 278, 279, 280, 281, 282, 283, 284, 285, 286, 287, 288, 289, 290, 291, 292, 293, 294, 295, 296, 297, 298, 299, 300, 301, 302, 303, 304, 305, 306, 307, 308, 309, 310, 311, 312, 313, 314, 315, 316, 317, 318, 319, 320, 321, 322, 323, 324, 325, 326, 327, 328, 329, 330, 331, 332, 333, 334, 335, 336, 337, 338, 339, 340, 341, 342, 343, 344, 345, 346, 347, 348, 349, 350, 351, 352, 353, 354, 355, 356, 357, 358, 359, 360, 361, 362, 363, 364, 365, 366, 367, 368, 369, 370, 371, 372, 373, 374, 375, 376, 377, 378, 379, 380, 381, 382, 383, 384, 385, 386, 387, 388, 389, 390, 391, 392, 393, 394, 395, 396, 397, 398, 399, 400, 401, 402, 403, 404, 405, 406, 407, 408, 409, 410, 411, 412, 413, 414, 415, 416, 417, 418, 419, 420, 421, 422, 423, 424, 425, 426, 427, 428, 429, 430, 431, 432, 433, 434, 435, 436, 437, 438, 439, 440, 441, 442, 443, 444, 445, 446, 447, 448, 449, 450, 451, 452, 453, 454, 455, 456, 457, 458, 459, 460, 461, 462, 463, 464, 465, 466, 467, 468, 469, 470, 471, 472, 473, 474, 475, 476, 477, 478, 479, 480, 481, 482, 483, 484, 485, 486, 487, 488, 489, 490, 491, 492, 493, 494, 495, 496, 497, 498, 499, 500, 501, 502, 503, 504, 505, 506, 507, 508, 509, 510, 511, 512, 513, 514, 515, 516, 517, 518, 519, 520, 521, 522, 523, 524, 525, 526, 527, 528, 529, 530, 531, 532, 533, 534, 535, 536, 537, 538, 539, 540, 541, 542, 543, 544, 545, 546, 547, 548, 549, 550, 551, 552, 553, 554, 555, 556, 557, 558, 559, 560, 561, 562, 563, 564, 565, 566, 567, 568, 569, 570, 571, 572, 573, 574, 575, 576, 577, 578, 579, 580, 581, 582, 583, 584, 585, 586, 587, 588, 589, 590, 591, 592, 593, 594, 595, 596, 597, 598, 599, 600, 601, 602, 603, 604, 605, 606, 607, 608, 609, 610, 611, 612, 613, 614, 615, 616, 617, 618, 619, 620, 621, 622, 623, 624, 625, 626, 627, 628, 629, 630, 631, 632, 633, 634, 635, 636, 637, 638, 639, 640, 641, 642, 643, 644, 645, 646, 647, 648, 649, 650, 651, 652, 653, 654, 655, 656, 657, 658, 659, 660, 661, 662, 663, 664, 665, 666, 667, 668, 669, 670, 671, 672, 673, 674, 675, 676, 677, 678, 679, 680, 681, 682, 683, 684, 685, 686, 687, 688, 689, 690, 691, 692, 693, 694, 695, 696, 697, 698, 699, 700, 701, 702, 703, 704, 705, 706, 707, 708, 709, 710, 711, 712, 713, 714, 715, 716, 717, 718, 719, 720, 721, 722, 723, 724, 725, 726, 727, 728, 729, 730, 731, 732, 733, 734, 735, 736, 737, 738, 739, 740, 741, 742, 743, 744, 745, 746, 747, 748, 749, 750, 751, 752, 753, 754, 755, 756, 757, 758, 759, 760, 761, 762, 763, 764, 765, 766, 767, 768, 769, 770, 771, 772, 773, 774, 775, 776, 777, 778, 779, 780, 781, 782, 783, 784, 785, 786, 787, 788, 789, 790, 791, 792, 793, 794, 795, 796, 797, 798, 799, 800, 801, 802, 803, 804, 805, 806, 807, 808, 809, 810, 811, 812, 813, 814, 815, 816, 817, 818, 819, 820, 821, 822, 823, 824, 825, 826, 827, 828, 829, 830, 831, 832, 833, 834, 835, 836, 837, 838, 839, 840, 841, 842, 843, 844, 845, 846, 847, 848, 849, 850, 851, 852, 853, 854, 855, 856, 857, 858, 859, 860, 861, 862, 863, 864, 865, 866, 867, 868, 869, 870, 871, 872, 873]\n"
          ]
        }
      ]
    },
    {
      "cell_type": "markdown",
      "source": [
        "#**El resultado obtenido**\n",
        "\n",
        "Resultados Obtenidos\n",
        "El análisis arrojó los siguientes resultados:\n",
        "\n",
        "Número de fragmentos detectados como anómalos: 874.\n",
        "Índices de los fragmentos anómalos: Una lista extensa que incluye los índices de todos los fragmentos identificados como fuera del umbral de similitud coseno definido en 0.8.\n",
        "\n",
        "Interpretación del Resultado\n",
        "Significado de las Anomalías Detectadas:\n",
        "\n",
        "Un fragmento es considerado anómalo si su máxima similitud con cualquier fragmento del conjunto de entrenamiento (Martín Fierro) es menor que el umbral (0.8). Esto implica que estos fragmentos tienen características distintivas o no comparten suficiente similitud léxica con el texto de referencia.\n",
        "\n",
        "La gran cantidad de fragmentos anómalos (874) indica que una porción significativa del conjunto de prueba (Martín Fierro y Fausto) presenta diferencias sustanciales en su representación vectorial.\n",
        "Posibles Razones del Alto Número de Anomalías:\n",
        "\n",
        "Diferencias de estilo: Los fragmentos del Fausto pueden diferir estilística o semánticamente del Martín Fierro, dada su naturaleza como textos poéticos de autores distintos.\n",
        "\n",
        "Ruido en los datos: El preprocesamiento puede haber dejado elementos que dificultan la comparación, como fragmentos incompletos o con caracteres especiales.\n",
        "\n",
        "Limitaciones del modelo TF-IDF: Al no capturar relaciones contextuales profundas, TF-IDF puede resultar en representaciones vectoriales menos robustas para textos complejos como poesías.\n",
        "\n",
        "Conclusión\n",
        "\n",
        "El resultado confirma que el conjunto de prueba contiene un número significativo de fragmentos que se desvían del estilo del Martín Fierro.\n",
        "\n",
        "Esto es consistente con la inclusión del Fausto, pero también sugiere que el enfoque actual de vectorización y detección podría no estar capturando con precisión las relaciones semánticas más profundas entre los textos.\n",
        "\n",
        "Pasos a Seguir\n",
        "\n",
        "Refinamiento del Preprocesamiento:\n",
        "\n",
        "Reanalizar los pasos de limpieza de texto para garantizar que no haya ruido residual.\n",
        "\n",
        "Verificar la segmentación de los fragmentos para evitar divisiones que distorsionen las representaciones.\n",
        "\n",
        "Ajuste del Umbral:\n",
        "\n",
        "Experimentar con diferentes valores de umbral (por ejemplo, 0.75 o 0.7) para reducir la cantidad de falsos positivos sin comprometer la detección de anomalías reales.\n",
        "\n",
        "Evaluación de Representaciones Alternativas:\n",
        "\n",
        "Considerar el uso de embeddings preentrenados (como Sentence Transformers o Word2Vec) que capturan relaciones contextuales más profundas y pueden diferenciar mejor entre estilos textuales.\n",
        "\n",
        "Comparar los resultados de detección de anomalías con los obtenidos mediante TF-IDF.\n",
        "Análisis Cualitativo:\n",
        "\n",
        "Revisar manualmente una muestra representativa de los fragmentos detectados como anómalos para confirmar la validez de los resultados y ajustar el enfoque según sea necesario.\n",
        "\n",
        "Integración de Métricas Adicionales:\n",
        "\n",
        "Implementar métricas complementarias (como similitud euclidiana o métricas de clustering) para evaluar la coherencia de los fragmentos anómalos dentro de su propio grupo.\n",
        "\n",
        "Documentación y Visualización:\n",
        "\n",
        "Incorporar gráficos de similitud (por ejemplo, mapas de calor o diagramas de dispersión) para visualizar cómo los fragmentos anómalos se relacionan con el resto del conjunto.\n",
        "\n",
        "Al abordar estas áreas, será posible enriquecer la detección de anomalías y obtener un análisis más preciso y profundo de las diferencias entre los fragmentos del Martín Fierro y del Fausto.\n",
        "\n",
        "\n"
      ],
      "metadata": {
        "id": "XFFMxtehj4DG"
      }
    },
    {
      "cell_type": "markdown",
      "source": [
        "comprobaciones adicionales\n",
        "\n",
        "voy a proceder a continuacion a adoptar algunas correcciones o ajustes, en primer lugar:\n",
        " voy a hacer un grafico de distribucion de similitudes"
      ],
      "metadata": {
        "id": "U12ovwsOfovB"
      }
    },
    {
      "cell_type": "code",
      "source": [
        "import matplotlib.pyplot as plt\n",
        "\n",
        "# Distribución de similitudes\n",
        "max_similitudes = similitudes.max(axis=1)\n",
        "\n",
        "plt.hist(max_similitudes, bins=10, color='skyblue', edgecolor='black')\n",
        "plt.title(\"Distribución de Similitudes Coseno\")\n",
        "plt.xlabel(\"Similitud coseno\")\n",
        "plt.ylabel(\"Frecuencia\")\n",
        "plt.axvline(x=umbral, color='red', linestyle='--', label=f'Umbral ({umbral})')\n",
        "plt.legend()\n",
        "plt.show()\n"
      ],
      "metadata": {
        "colab": {
          "base_uri": "https://localhost:8080/",
          "height": 472
        },
        "id": "DsDNM-ehfsf1",
        "outputId": "ab88c0c9-ae2e-495e-d038-32c22324e095"
      },
      "execution_count": null,
      "outputs": [
        {
          "output_type": "display_data",
          "data": {
            "text/plain": [
              "<Figure size 640x480 with 1 Axes>"
            ],
            "image/png": "[encoded data removed]"
          },
          "metadata": {}
        }
      ]
    },
    {
      "cell_type": "markdown",
      "source": [
        "El histograma muestra la distribución de las similitudes coseno entre los fragmentos del conjunto de prueba y el conjunto de entrenamiento:\n",
        "\n",
        "Distribución Central:\n",
        "\n",
        "La mayor parte de las similitudes se concentra en valores entre 0.3 y 0.5, lo que indica una baja relación entre la mayoría de los fragmentos de prueba y los de entrenamiento.\n",
        "Este comportamiento sugiere que muchos fragmentos de prueba no comparten suficiente contenido semántico o léxico con el conjunto de entrenamiento (Martín Fierro).\n",
        "Umbral de Similitud (0.8):\n",
        "\n",
        "El umbral está representado por la línea roja discontinua en el valor 0.8.\n",
        "Ningún fragmento de prueba alcanza este nivel de similitud, lo que explica el alto número de anomalías detectadas.\n",
        "Extremos:\n",
        "\n",
        "Hay muy pocos valores en rangos extremos (por debajo de 0.2 o cerca de 0.7). Esto indica que:\n",
        "Baja similitud (< 0.2): Algunos fragmentos tienen representaciones completamente distintas.\n",
        "Alta similitud (> 0.7 pero < 0.8): Existen fragmentos algo similares, pero no lo suficiente para cruzar el umbral."
      ],
      "metadata": {
        "id": "cOykd-v3tqi5"
      }
    },
    {
      "cell_type": "code",
      "source": [
        "# Importar librerías necesarias\n",
        "from sklearn.metrics.pairwise import cosine_similarity\n",
        "import numpy as np\n",
        "\n",
        "from sklearn.metrics.pairwise import cosine_similarity\n",
        "\n",
        "# Calcular similitudes coseno\n",
        "similitudes = cosine_similarity(X_prueba, X_entrenamiento)\n",
        "\n",
        "# Detectar anomalías según un umbral\n",
        "umbral = 0.4\n",
        "anomalías = [i for i, fila in enumerate(similitudes) if max(fila) < umbral]\n",
        "\n",
        "print(f\"Fragmentos detectados como anómalos: {len(anomalías)}\")\n",
        "print(f\"Índices de fragmentos anómalos: {anomalías}\")\n",
        "\n",
        "# Extraer y analizar fragmentos anómalos\n",
        "fragmentos_anómalos = [fragmentos_prueba[i] for i in anomalías]\n"
      ],
      "metadata": {
        "colab": {
          "base_uri": "https://localhost:8080/"
        },
        "id": "jSYVcnw3tuFv",
        "outputId": "1ca8ab17-56e6-4ab9-ca2d-d2793aba1601"
      },
      "execution_count": null,
      "outputs": [
        {
          "output_type": "stream",
          "name": "stdout",
          "text": [
            "Fragmentos detectados como anómalos: 646\n",
            "Índices de fragmentos anómalos: [0, 3, 4, 5, 6, 7, 9, 10, 11, 12, 13, 14, 15, 16, 17, 18, 19, 20, 21, 22, 25, 26, 27, 28, 29, 30, 31, 32, 33, 34, 35, 36, 37, 38, 40, 42, 43, 44, 45, 46, 47, 48, 49, 50, 51, 52, 53, 54, 55, 56, 57, 58, 59, 61, 62, 63, 65, 66, 67, 68, 69, 71, 72, 73, 74, 76, 77, 78, 79, 81, 82, 83, 84, 85, 88, 91, 92, 93, 94, 95, 96, 97, 98, 99, 100, 101, 102, 103, 105, 106, 107, 108, 109, 111, 112, 113, 114, 115, 116, 117, 118, 119, 121, 122, 123, 124, 126, 127, 128, 129, 131, 132, 133, 134, 136, 138, 139, 140, 141, 142, 143, 145, 148, 149, 150, 151, 152, 153, 154, 155, 156, 157, 158, 162, 165, 166, 167, 168, 169, 170, 171, 172, 173, 174, 175, 177, 179, 180, 183, 184, 186, 187, 189, 190, 193, 194, 195, 196, 197, 198, 199, 200, 201, 202, 204, 206, 207, 208, 209, 220, 221, 226, 227, 228, 230, 232, 234, 236, 238, 240, 241, 242, 243, 249, 250, 251, 252, 254, 255, 257, 258, 259, 260, 261, 263, 265, 266, 268, 269, 270, 271, 272, 273, 275, 276, 277, 278, 279, 280, 282, 284, 285, 287, 288, 289, 290, 291, 293, 294, 295, 296, 300, 301, 302, 303, 304, 307, 309, 310, 311, 312, 315, 316, 317, 319, 320, 321, 322, 323, 324, 325, 326, 327, 328, 330, 331, 332, 333, 334, 335, 336, 338, 339, 340, 341, 342, 343, 344, 345, 346, 348, 349, 350, 352, 354, 355, 356, 357, 358, 361, 362, 364, 366, 367, 369, 370, 371, 372, 373, 374, 375, 376, 377, 378, 379, 382, 384, 385, 386, 387, 388, 389, 391, 392, 394, 395, 396, 397, 398, 400, 401, 402, 403, 404, 405, 406, 407, 408, 409, 410, 411, 415, 416, 417, 420, 423, 424, 425, 426, 427, 428, 430, 432, 433, 434, 437, 438, 439, 440, 441, 442, 443, 446, 447, 448, 452, 453, 455, 456, 457, 458, 459, 460, 461, 462, 463, 465, 466, 468, 469, 470, 471, 473, 474, 475, 478, 480, 481, 483, 484, 485, 486, 487, 488, 489, 490, 491, 493, 495, 496, 497, 498, 500, 501, 502, 503, 504, 505, 506, 507, 508, 509, 511, 512, 514, 515, 518, 519, 520, 522, 523, 526, 527, 528, 529, 530, 531, 533, 535, 538, 539, 540, 541, 542, 543, 544, 545, 546, 547, 548, 549, 550, 551, 552, 553, 554, 555, 556, 558, 559, 560, 561, 562, 563, 564, 565, 566, 567, 568, 569, 570, 572, 573, 574, 575, 578, 579, 580, 583, 584, 585, 586, 587, 588, 589, 590, 591, 592, 595, 596, 597, 600, 602, 603, 607, 608, 610, 611, 612, 614, 615, 617, 619, 620, 621, 623, 627, 628, 629, 632, 633, 635, 636, 638, 639, 641, 642, 645, 646, 647, 648, 649, 650, 651, 652, 653, 654, 655, 656, 657, 658, 659, 661, 662, 663, 664, 665, 667, 668, 669, 670, 671, 673, 674, 675, 676, 677, 679, 680, 682, 684, 686, 687, 689, 692, 693, 694, 695, 696, 697, 698, 699, 700, 702, 704, 706, 708, 709, 710, 711, 712, 713, 714, 715, 717, 718, 719, 720, 723, 724, 725, 726, 727, 728, 730, 732, 734, 736, 737, 738, 740, 741, 742, 744, 745, 747, 748, 753, 754, 755, 756, 757, 758, 760, 761, 762, 763, 764, 765, 766, 767, 768, 769, 770, 771, 772, 773, 774, 775, 776, 777, 778, 779, 780, 781, 784, 785, 786, 787, 788, 789, 790, 791, 793, 794, 796, 797, 798, 799, 800, 801, 803, 805, 806, 807, 808, 809, 810, 811, 813, 814, 816, 818, 820, 822, 824, 825, 826, 828, 829, 830, 831, 832, 833, 834, 835, 836, 837, 838, 839, 841, 842, 843, 846, 847, 848, 849, 853, 855, 856, 858, 862, 863, 865, 866, 868]\n"
          ]
        }
      ]
    },
    {
      "cell_type": "markdown",
      "source": [
        "Interpretación de los Resultados\n",
        "Reducción de anomalías detectadas:\n",
        "\n",
        "El uso de embeddings generados por Sentence Transformers ha reducido drásticamente la cantidad de fragmentos detectados como anómalos, pasando de 646 fragmentos con TF-IDF a solo 5 fragmentos.\n",
        "Esto sugiere que Sentence Transformers, al capturar relaciones semánticas más profundas entre los fragmentos, ha mejorado la precisión del modelo, identificando anomalías con mayor relevancia contextual.\n",
        "Posible explicación del cambio:\n",
        "\n",
        "TF-IDF considera solo la frecuencia de palabras, lo que puede conducir a similitudes bajas si los fragmentos tienen términos poco comunes, incluso si son conceptualmente similares.\n",
        "Sentence Transformers utiliza embeddings que representan el significado semántico de las frases, lo que puede explicar por qué se detectan menos anomalías: fragmentos conceptualmente similares se agrupan con mayor precisión.\n",
        "Nuevas preguntas para analizar:\n",
        "\n",
        "¿Qué características tienen estos 5 fragmentos detectados como anómalos? Podría ser interesante revisar su contenido para validar si realmente son casos atípicos.\n",
        "¿El umbral de similitud (0.4) sigue siendo adecuado en este contexto, o podría ajustarse aún más para afinar la detección?"
      ],
      "metadata": {
        "id": "1QAj8QFxzr1p"
      }
    },
    {
      "cell_type": "markdown",
      "source": [
        "#**Próximos Pasos:**\n",
        "\n",
        "Revisar algunas de las poesías clasificadas como anómalas podría proporcionar un entendimiento más profundo de las diferencias. Analizar su vocabulario, estructura y estilo puede confirmar o refutar las hipótesis sobre las discrepancias estilísticas o temáticas.\n",
        "\n",
        "Esta conclusión permite justificar que el modelo y la métrica seleccionados son efectivos para captar diferencias semánticas y estilísticas entre los textos, además de resaltar la importancia del contexto cultural y lingüístico en la detección de anomalías"
      ],
      "metadata": {
        "id": "FsK8sMzV8bL1"
      }
    },
    {
      "cell_type": "markdown",
      "source": [
        "#**A partir de este bloque intentare optimizar algunos pasos para ver si mejoran los resultados**\n",
        "\n",
        "Voy a modificar el Umbral a 0.4"
      ],
      "metadata": {
        "id": "jM3bmI7D8ZI1"
      }
    },
    {
      "cell_type": "code",
      "source": [
        "import matplotlib.pyplot as plt\n",
        "\n",
        "# Distribución de similitudes\n",
        "max_similitudes = similitudes.max(axis=1)\n",
        "\n",
        "plt.hist(max_similitudes, bins=10, color='skyblue', edgecolor='black')\n",
        "plt.title(\"Distribución de Similitudes Coseno\")\n",
        "plt.xlabel(\"Similitud coseno\")\n",
        "plt.ylabel(\"Frecuencia\")\n",
        "plt.axvline(x=umbral, color='red', linestyle='--', label=f'Umbral ({umbral})')\n",
        "plt.legend()\n",
        "plt.show()\n"
      ],
      "metadata": {
        "colab": {
          "base_uri": "https://localhost:8080/",
          "height": 472
        },
        "id": "ECWaSyhKg3xe",
        "outputId": "ff326f04-5826-4c3c-c26a-fa3edd6613e3"
      },
      "execution_count": null,
      "outputs": [
        {
          "output_type": "display_data",
          "data": {
            "text/plain": [
              "<Figure size 640x480 with 1 Axes>"
            ],
            "image/png": "[encoded data removed]"
          },
          "metadata": {}
        }
      ]
    },
    {
      "cell_type": "markdown",
      "source": [
        "Interpretación de los Resultados con Umbral Reducido a 0.4\n",
        "Distribución de Similitudes Coseno:\n",
        "\n",
        "La gráfica muestra una distribución similar a la obtenida con el umbral inicial de 0.8, pero el nuevo umbral (0.4) está ubicado en una zona más densa de la distribución. Esto implica que muchas similitudes entre los fragmentos de prueba y los de entrenamiento caen por debajo del nuevo valor, aumentando el número de fragmentos considerados como anómalos.\n",
        "El rango de similitudes sigue concentrándose entre 0.3 y 0.5, lo que sugiere que las similitudes en general son bajas y no hay fragmentos que muestren una gran correspondencia con los datos de entrenamiento.\n",
        "Cantidad de Fragmentos Detectados como Anómalos:\n",
        "\n",
        "Con un umbral de 0.4, se detectaron 646 fragmentos anómalos, una reducción significativa en comparación con los 874 detectados inicialmente (umbral de 0.8). Esto indica que el umbral más bajo es menos estricto, permitiendo que más fragmentos pasen el filtro de similitud.\n",
        "Sin embargo, el número sigue siendo alto, lo que podría reflejar la naturaleza distinta o compleja de los fragmentos de prueba en relación con el conjunto de entrenamiento.\n",
        "Conclusiones del Análisis:\n",
        "Alta Sensibilidad del Umbral: El cambio en el umbral ha reducido el número de anomalías detectadas, pero sigue señalando una proporción importante del conjunto de prueba como anómala. Esto podría indicar que los datos de entrenamiento no son lo suficientemente representativos para capturar la diversidad en el conjunto de prueba.\n",
        "Riqueza Contextual Baja de TF-IDF: La técnica de vectorización usada (TF-IDF) puede no estar capturando completamente las relaciones semánticas y contextuales de los fragmentos, especialmente considerando que se trata de textos literarios complejos."
      ],
      "metadata": {
        "id": "2PnhO_esjCBW"
      }
    },
    {
      "cell_type": "markdown",
      "source": [
        "#**A continuacion voy a implementar algunos ajustes y cambios\n",
        "\n",
        "Prueba con Sentence Transformers:\n",
        "\n",
        "Voy a cambiar la vectorización de TF-IDF por embeddings preentrenados con un modelo como all-MiniLM-L6-v2.\n",
        "\n",
        "Este tipo de embeddings captura mejor las relaciones semánticas entre palabras y frases.\n",
        "\n",
        "Repitire el análisis con el mismo umbral (0.4) y comparare los  resultados."
      ],
      "metadata": {
        "id": "gUneBG_1jExu"
      }
    },
    {
      "cell_type": "code",
      "source": [
        "# Instalar la librería Sentence Transformers\n",
        "!pip install -U sentence-transformers\n"
      ],
      "metadata": {
        "colab": {
          "base_uri": "https://localhost:8080/"
        },
        "id": "H_wmartWjfqb",
        "outputId": "cd536039-f9ce-4618-de3f-35c31543419a"
      },
      "execution_count": null,
      "outputs": [
        {
          "output_type": "stream",
          "name": "stdout",
          "text": [
            "Requirement already satisfied: sentence-transformers in /usr/local/lib/python3.10/dist-packages (3.3.1)\n",
            "Requirement already satisfied: transformers<5.0.0,>=4.41.0 in /usr/local/lib/python3.10/dist-packages (from sentence-transformers) (4.46.3)\n",
            "Requirement already satisfied: tqdm in /usr/local/lib/python3.10/dist-packages (from sentence-transformers) (4.66.6)\n",
            "Requirement already satisfied: torch>=1.11.0 in /usr/local/lib/python3.10/dist-packages (from sentence-transformers) (2.5.1+cu121)\n",
            "Requirement already satisfied: scikit-learn in /usr/local/lib/python3.10/dist-packages (from sentence-transformers) (1.5.2)\n",
            "Requirement already satisfied: scipy in /usr/local/lib/python3.10/dist-packages (from sentence-transformers) (1.13.1)\n",
            "Requirement already satisfied: huggingface-hub>=0.20.0 in /usr/local/lib/python3.10/dist-packages (from sentence-transformers) (0.26.3)\n",
            "Requirement already satisfied: Pillow in /usr/local/lib/python3.10/dist-packages (from sentence-transformers) (11.0.0)\n",
            "Requirement already satisfied: filelock in /usr/local/lib/python3.10/dist-packages (from huggingface-hub>=0.20.0->sentence-transformers) (3.16.1)\n",
            "Requirement already satisfied: fsspec>=2023.5.0 in /usr/local/lib/python3.10/dist-packages (from huggingface-hub>=0.20.0->sentence-transformers) (2024.10.0)\n",
            "Requirement already satisfied: packaging>=20.9 in /usr/local/lib/python3.10/dist-packages (from huggingface-hub>=0.20.0->sentence-transformers) (24.2)\n",
            "Requirement already satisfied: pyyaml>=5.1 in /usr/local/lib/python3.10/dist-packages (from huggingface-hub>=0.20.0->sentence-transformers) (6.0.2)\n",
            "Requirement already satisfied: requests in /usr/local/lib/python3.10/dist-packages (from huggingface-hub>=0.20.0->sentence-transformers) (2.32.3)\n",
            "Requirement already satisfied: typing-extensions>=3.7.4.3 in /usr/local/lib/python3.10/dist-packages (from huggingface-hub>=0.20.0->sentence-transformers) (4.12.2)\n",
            "Requirement already satisfied: networkx in /usr/local/lib/python3.10/dist-packages (from torch>=1.11.0->sentence-transformers) (3.4.2)\n",
            "Requirement already satisfied: jinja2 in /usr/local/lib/python3.10/dist-packages (from torch>=1.11.0->sentence-transformers) (3.1.4)\n",
            "Requirement already satisfied: sympy==1.13.1 in /usr/local/lib/python3.10/dist-packages (from torch>=1.11.0->sentence-transformers) (1.13.1)\n",
            "Requirement already satisfied: mpmath<1.4,>=1.1.0 in /usr/local/lib/python3.10/dist-packages (from sympy==1.13.1->torch>=1.11.0->sentence-transformers) (1.3.0)\n",
            "Requirement already satisfied: numpy>=1.17 in /usr/local/lib/python3.10/dist-packages (from transformers<5.0.0,>=4.41.0->sentence-transformers) (1.26.4)\n",
            "Requirement already satisfied: regex!=2019.12.17 in /usr/local/lib/python3.10/dist-packages (from transformers<5.0.0,>=4.41.0->sentence-transformers) (2024.9.11)\n",
            "Requirement already satisfied: tokenizers<0.21,>=0.20 in /usr/local/lib/python3.10/dist-packages (from transformers<5.0.0,>=4.41.0->sentence-transformers) (0.20.3)\n",
            "Requirement already satisfied: safetensors>=0.4.1 in /usr/local/lib/python3.10/dist-packages (from transformers<5.0.0,>=4.41.0->sentence-transformers) (0.4.5)\n",
            "Requirement already satisfied: joblib>=1.2.0 in /usr/local/lib/python3.10/dist-packages (from scikit-learn->sentence-transformers) (1.4.2)\n",
            "Requirement already satisfied: threadpoolctl>=3.1.0 in /usr/local/lib/python3.10/dist-packages (from scikit-learn->sentence-transformers) (3.5.0)\n",
            "Requirement already satisfied: MarkupSafe>=2.0 in /usr/local/lib/python3.10/dist-packages (from jinja2->torch>=1.11.0->sentence-transformers) (3.0.2)\n",
            "Requirement already satisfied: charset-normalizer<4,>=2 in /usr/local/lib/python3.10/dist-packages (from requests->huggingface-hub>=0.20.0->sentence-transformers) (3.4.0)\n",
            "Requirement already satisfied: idna<4,>=2.5 in /usr/local/lib/python3.10/dist-packages (from requests->huggingface-hub>=0.20.0->sentence-transformers) (3.10)\n",
            "Requirement already satisfied: urllib3<3,>=1.21.1 in /usr/local/lib/python3.10/dist-packages (from requests->huggingface-hub>=0.20.0->sentence-transformers) (2.2.3)\n",
            "Requirement already satisfied: certifi>=2017.4.17 in /usr/local/lib/python3.10/dist-packages (from requests->huggingface-hub>=0.20.0->sentence-transformers) (2024.8.30)\n"
          ]
        }
      ]
    },
    {
      "cell_type": "code",
      "source": [
        "from sentence_transformers import SentenceTransformer\n",
        "import numpy as np\n",
        "from sklearn.metrics.pairwise import cosine_similarity\n",
        "\n",
        "# Cargar el modelo preentrenado\n",
        "modelo = SentenceTransformer('all-MiniLM-L6-v2')\n",
        "\n",
        "# Generar embeddings para los datos de entrenamiento y prueba\n",
        "embeddings_entrenamiento = modelo.encode(fragmentos_entrenamiento)\n",
        "embeddings_prueba = modelo.encode(fragmentos_prueba)\n"
      ],
      "metadata": {
        "id": "cu1CRoqHjlul"
      },
      "execution_count": null,
      "outputs": []
    },
    {
      "cell_type": "markdown",
      "source": [
        "Cálculo de Similitudes Coseno y Detección de Anomalías: Incluyo nuevamente  el análisis con el nuevo enfoque, reutilizando el código del cálculo de similitudes y detección de anomalías:"
      ],
      "metadata": {
        "id": "87vuSxBmkcPK"
      }
    },
    {
      "cell_type": "code",
      "source": [
        "# Calcular similitudes coseno\n",
        "similitudes_st = cosine_similarity(embeddings_prueba, embeddings_entrenamiento)\n",
        "\n",
        "# Detectar anomalías según el umbral\n",
        "umbral_st = 0.4  # Puedes experimentar con este valor\n",
        "anomalías_st = [i for i, fila in enumerate(similitudes_st) if max(fila) < umbral_st]\n",
        "\n",
        "print(f\"Fragmentos detectados como anómalos (Sentence Transformers): {len(anomalías_st)}\")\n",
        "print(f\"Índices de fragmentos anómalos: {anomalías_st}\")\n"
      ],
      "metadata": {
        "colab": {
          "base_uri": "https://localhost:8080/"
        },
        "id": "Lv6okL1hkW4m",
        "outputId": "4b685796-afa1-4129-9f9e-cd8021679ec7"
      },
      "execution_count": null,
      "outputs": [
        {
          "output_type": "stream",
          "name": "stdout",
          "text": [
            "Fragmentos detectados como anómalos (Sentence Transformers): 5\n",
            "Índices de fragmentos anómalos: [649, 650, 838, 839, 859]\n"
          ]
        }
      ]
    },
    {
      "cell_type": "markdown",
      "source": [
        "Interpretación de los Resultados\n",
        "Reducción de anomalías detectadas:\n",
        "\n",
        "El uso de embeddings generados por Sentence Transformers ha reducido drásticamente la cantidad de fragmentos detectados como anómalos, pasando de 646 fragmentos con TF-IDF a solo 5 fragmentos.\n",
        "Esto sugiere que Sentence Transformers, al capturar relaciones semánticas más profundas entre los fragmentos, ha mejorado la precisión del modelo, identificando anomalías con mayor relevancia contextual.\n",
        "Posible explicación del cambio:\n",
        "\n",
        "TF-IDF considera solo la frecuencia de palabras, lo que puede conducir a similitudes bajas si los fragmentos tienen términos poco comunes, incluso si son conceptualmente similares.\n",
        "Sentence Transformers utiliza embeddings que representan el significado semántico de las frases, lo que puede explicar por qué se detectan menos anomalías: fragmentos conceptualmente similares se agrupan con mayor precisión."
      ],
      "metadata": {
        "id": "JxlXWja2k3AI"
      }
    },
    {
      "cell_type": "markdown",
      "source": [
        "Nuevas preguntas me surgen aqui para analizar:\n",
        "\n",
        "¿Qué características tienen estos 5 fragmentos detectados como anómalos? Podría ser interesante revisar su contenido para validar si realmente son casos atípicos.\n",
        "\n",
        "¿El umbral de similitud (0.4) sigue siendo adecuado en este contexto, o podría ajustarse aún más para afinar la detección?\n",
        "\n",
        "¿Tiene sentido seguir haciendo ajustes o cambios, hasta que punto se debe continuar o decir esto es suficiente?"
      ],
      "metadata": {
        "id": "zVHHroTDmQXF"
      }
    },
    {
      "cell_type": "code",
      "source": [
        "import matplotlib.pyplot as plt\n",
        "\n",
        "# Graficar distribución de similitudes\n",
        "plt.hist(similitudes_st.flatten(), bins=30, color='skyblue', edgecolor='black')\n",
        "plt.axvline(x=umbral_st, color='red', linestyle='--', label=f'Umbral ({umbral_st})')\n",
        "plt.title('Distribución de Similitudes Coseno con Sentence Transformers')\n",
        "plt.xlabel('Similitud coseno')\n",
        "plt.ylabel('Frecuencia')\n",
        "plt.legend()\n",
        "plt.show()\n"
      ],
      "metadata": {
        "colab": {
          "base_uri": "https://localhost:8080/",
          "height": 472
        },
        "id": "f2HX-2Z5k3uq",
        "outputId": "7bce2feb-1e24-4be3-b5e7-0f858b567ac4"
      },
      "execution_count": null,
      "outputs": [
        {
          "output_type": "display_data",
          "data": {
            "text/plain": [
              "<Figure size 640x480 with 1 Axes>"
            ],
            "image/png": "[encoded data removed]"
          },
          "metadata": {}
        }
      ]
    },
    {
      "cell_type": "markdown",
      "source": [
        "Interpretación de la gráfica con Sentence Transformers\n",
        "Distribución de Similitudes Coseno:\n",
        "\n",
        "La gráfica muestra una distribución mucho más concentrada y simétrica en torno a un rango específico (aproximadamente entre 0.3 y 0.6). Esto indica que los embeddings generados por Sentence Transformers capturan con mayor precisión las relaciones semánticas entre los fragmentos.\n",
        "En comparación con la distribución anterior (probablemente más dispersa), aquí la mayoría de los valores de similitud están más cerca entre sí, lo que refleja una mayor cohesión semántica en los datos.\n",
        "Umbral de Similitud (0.4):\n",
        "\n",
        "La línea roja vertical representa el umbral utilizado para identificar anomalías. Todos los fragmentos con una similitud menor a 0.4 son marcados como anómalos.\n",
        "Dado que la mayor parte de los datos se encuentra a la derecha del umbral, el número de anomalías detectadas es significativamente menor que en el caso anterior.\n",
        "Reducción de Anomalías:\n",
        "\n",
        "Esta distribución valida el resultado numérico obtenido: solo 5 fragmentos fueron detectados como anómalos.\n",
        "Los fragmentos detectados caen en las colas de la distribución (a la izquierda del umbral), lo que sugiere que son casos verdaderamente atípicos en términos de similitud semántica.\n",
        "Comparación con TF-IDF:\n",
        "\n",
        "La distribución obtenida con TF-IDF probablemente mostraba un rango más amplio de similitudes, con mayor cantidad de valores inferiores al umbral, lo que llevó a detectar 646 anomalías.\n",
        "Con Sentence Transformers, al mejorar la representación semántica, las similitudes son más altas en promedio, reduciendo la detección de falsos positivos.\n",
        "Conclusiones a partir de la gráfica\n",
        "Mayor precisión semántica: La gráfica sugiere que Sentence Transformers es una herramienta más robusta para detectar anomalías al priorizar relaciones conceptuales profundas.\n",
        "Efectividad del umbral: El umbral actual parece razonable en este caso, ya que segmenta adecuadamente la región de valores atípicos (izquierda) y los fragmentos semánticamente similares (derecha)."
      ],
      "metadata": {
        "id": "lF52CC3Sm-Wx"
      }
    },
    {
      "cell_type": "markdown",
      "source": [
        "#**Comparacion de resultados**\n"
      ],
      "metadata": {
        "id": "i6g2Fe1dm_CI"
      }
    },
    {
      "cell_type": "code",
      "source": [
        "import pandas as pd\n",
        "\n",
        "# Resumen comparativo\n",
        "resultados = {\n",
        "    'Método': ['TF-IDF', 'Sentence Transformers'],\n",
        "    'Fragmentos anómalos detectados': [646, 5],\n",
        "    'Índices de fragmentos anómalos': [\n",
        "        'Muchos índices, solo algunos mostrados...',\n",
        "        [649, 650, 838, 839, 859]\n",
        "    ]\n",
        "}\n",
        "\n",
        "df_resultados = pd.DataFrame(resultados)\n",
        "print(df_resultados)\n"
      ],
      "metadata": {
        "colab": {
          "base_uri": "https://localhost:8080/"
        },
        "id": "w0QP-m0WnFC5",
        "outputId": "af445b62-17de-4981-b109-663c55699ce5"
      },
      "execution_count": null,
      "outputs": [
        {
          "output_type": "stream",
          "name": "stdout",
          "text": [
            "                  Método  Fragmentos anómalos detectados  \\\n",
            "0                 TF-IDF                             646   \n",
            "1  Sentence Transformers                               5   \n",
            "\n",
            "              Índices de fragmentos anómalos  \n",
            "0  Muchos índices, solo algunos mostrados...  \n",
            "1                  [649, 650, 838, 839, 859]  \n"
          ]
        }
      ]
    },
    {
      "cell_type": "markdown",
      "source": [
        "#**Analisis visual comparativo**"
      ],
      "metadata": {
        "id": "y8bXt8kvnRYc"
      }
    },
    {
      "cell_type": "code",
      "source": [
        "# Comparar la cantidad de anomalías detectadas\n",
        "metodos = ['TF-IDF', 'Sentence Transformers']\n",
        "anomalías = [646, 5]\n",
        "\n",
        "plt.bar(metodos, anomalías, color=['skyblue', 'orange'])\n",
        "plt.title('Comparación de Fragmentos Anómalos Detectados')\n",
        "plt.ylabel('Cantidad de Anomalías')\n",
        "plt.xlabel('Método')\n",
        "plt.show()\n"
      ],
      "metadata": {
        "colab": {
          "base_uri": "https://localhost:8080/",
          "height": 472
        },
        "id": "bJGj9hhrnvfM",
        "outputId": "5d61cca7-caec-4333-8000-50d5c923bb08"
      },
      "execution_count": null,
      "outputs": [
        {
          "output_type": "display_data",
          "data": {
            "text/plain": [
              "<Figure size 640x480 with 1 Axes>"
            ],
            "image/png": "[encoded data removed]"
          },
          "metadata": {}
        }
      ]
    },
    {
      "cell_type": "markdown",
      "source": [
        "Análisis Detallado de los Fragmentos Anómalos"
      ],
      "metadata": {
        "id": "x17GPi3Pn8-h"
      }
    },
    {
      "cell_type": "code",
      "source": [
        "# Extraer contenido de fragmentos anómalos\n",
        "fragmentos_anómalos_st = [fragmentos_prueba[i] for i in [649, 650, 838, 839, 859]]\n",
        "\n",
        "for i, fragmento in enumerate(fragmentos_anómalos_st):\n",
        "    print(f\"Fragmento {i + 1}: {fragmento}\\n\")\n"
      ],
      "metadata": {
        "colab": {
          "base_uri": "https://localhost:8080/"
        },
        "id": "nVVtrnwdn-nV",
        "outputId": "ea597c60-504e-4e69-89c4-a0c728034622"
      },
      "execution_count": null,
      "outputs": [
        {
          "output_type": "stream",
          "name": "stdout",
          "text": [
            "Fragmento 1: A S. E. e l S e ñ o r P r e s i d e n t e d e l a C o n f e\n",
            "\n",
            "Fragmento 2: d e r a c i ó n Ar g e n t i n a , D r. D . S a n t i a g o\n",
            "\n",
            "Fragmento 3: Carlos Mayer........................................................................... 92 ¡Te adoro!...................................................................................... 94 Serenata ........................................................................................ 95 Flores del tiempo y flores del alma ......................................... 97 Páginas de mi cartera................................................................. 98 Barcarola....................................................................................... 99 Plegaria......................................................................................... 101 ¡Adiós! ..........................................................................................\n",
            "\n",
            "Fragmento 4: 102 Ayer, hoy y después.................................................................... 103 Cantares ........................................................................................ 103 ¡Asílalo!......................................................................................... 105 Ultima lágrima............................................................................. 105 Llorando la muerte de una m ártir........................................... 106 A tu partida................................................................................. 107 Pág. Mis votos\n",
            "\n",
            "Fragmento 5: a k e s p e a r e : Mácbeth. e r c k m a n n -c h a t r iá n : Recuerdos del\n",
            "\n"
          ]
        }
      ]
    },
    {
      "cell_type": "markdown",
      "source": [
        "Interpretación de los fragmentos extraídos como anomalías\n",
        "Anomalías detectadas: Los fragmentos detectados presentan características atípicas, que los alejan significativamente de los patrones semánticos predominantes en el resto de los datos, según el cálculo de similitud coseno.\n",
        "\n",
        "Características de los fragmentos:\n",
        "\n",
        "Fragmentos incompletos o desordenados: Los textos presentan errores tipográficos, separaciones inusuales entre letras o palabras (\"A S. E. e l S e ñ o r P r e s i d e n t e d e l a C o n f e\"). Estas características podrían haber reducido la calidad de los embeddings generados, lo que resultó en bajas similitudes.\n",
        "Contenido incoherente o fuera de contexto: Algunos fragmentos, como listas de títulos, índices (\"Carlos Mayer... ¡Te adoro!... Serenata\"), parecen descontextualizados o carentes de un significado narrativo o semántico claro.\n",
        "Elementos no textuales o metadatos: La aparición de caracteres repetitivos, secciones numeradas o texto que parece provenir de índices o tablas (\"Páginas de mi cartera... ¡Adiós!\") podría ser difícil de interpretar correctamente incluso por modelos como Sentence Transformers.\n",
        "Posibles causas de la detección como anómalos:\n",
        "\n",
        "Ruido en los datos: Estos fragmentos podrían ser producto de una extracción deficiente, escaneos con errores o malformación del texto original.\n",
        "Limitación del modelo: Aunque Sentence Transformers tiene un mejor manejo semántico, fragmentos extremadamente breves, con errores tipográficos o desconexos, pueden quedar fuera de su capacidad de representación efectiva.\n",
        "Contexto ausente: La falta de contexto puede hacer que un fragmento tenga poco sentido por sí solo, impactando su similitud con otros textos en el conjunto."
      ],
      "metadata": {
        "id": "JOwW69YQpHVo"
      }
    },
    {
      "cell_type": "markdown",
      "source": [
        "Interpretación de los fragmentos extraídos como anomalías\n",
        "Anomalías detectadas: Los fragmentos detectados presentan características atípicas, que los alejan significativamente de los patrones semánticos predominantes en el resto de los datos, según el cálculo de similitud coseno.\n",
        "\n",
        "Características de los fragmentos:\n",
        "\n",
        "Fragmentos incompletos o desordenados: Los textos presentan errores tipográficos, separaciones inusuales entre letras o palabras (\"A S. E. e l S e ñ o r P r e s i d e n t e d e l a C o n f e\"). Estas características podrían haber reducido la calidad de los embeddings generados, lo que resultó en bajas similitudes.\n",
        "Contenido incoherente o fuera de contexto: Algunos fragmentos, como listas de títulos, índices (\"Carlos Mayer... ¡Te adoro!... Serenata\"), parecen descontextualizados o carentes de un significado narrativo o semántico claro.\n",
        "Elementos no textuales o metadatos: La aparición de caracteres repetitivos, secciones numeradas o texto que parece provenir de índices o tablas (\"Páginas de mi cartera... ¡Adiós!\") podría ser difícil de interpretar correctamente incluso por modelos como Sentence Transformers.\n",
        "Posibles causas de la detección como anómalos:\n",
        "\n",
        "Ruido en los datos: Estos fragmentos podrían ser producto de una extracción deficiente, escaneos con errores o malformación del texto original.\n",
        "Limitación del modelo: Aunque Sentence Transformers tiene un mejor manejo semántico, fragmentos extremadamente breves, con errores tipográficos o desconexos, pueden quedar fuera de su capacidad de representación efectiva.\n",
        "Contexto ausente: La falta de contexto puede hacer que un fragmento tenga poco sentido por sí solo, impactando su similitud con otros textos en el conjunto."
      ],
      "metadata": {
        "id": "BjZyLazCqKzW"
      }
    },
    {
      "cell_type": "markdown",
      "source": [
        "#**Bibliografia y Puntos de Inspiracion**\n",
        "\n",
        "Recurso: Chatgpt Prompt empleado :\n",
        "Guia general, paso por paso para desarrollar un notebook para el siguiente tema \"TEMA 1 DETECCIÓN DE ANOMALÍAS\n",
        "\n",
        "El objetivo es entrenar un modelo para que distinga si el texto es o no parte del Martín Fierro.\n",
        "\n",
        "Para ello debe entrenar un modelo de embeddings para el texto de Martín Fierro.\n",
        "\n",
        "Luego comprobar que usando dicho modelo de embeddings con otros textos,usando la distancia coseno, por ejemplo. Podría revisar otras medidas de distancias. Contrastar con otro libro de poesía gauchesca como Fausto (de Estanislao Lopez)\n",
        "\"\n",
        "\n",
        "Blibliografia Basica\n",
        "\n",
        "Deep Learning with Python de François Chollet. (Ideal para entender modelos de IA y uso de embeddings).\n",
        "\n",
        "Speech and Language Processing de Daniel Jurafsky y James H. Martin. (Para entender los conceptos fundamentales de procesamiento de lenguaje natural y embeddings).\n",
        "\n",
        "Bibliografía en Español Específica sobre Detección de Anomalías en Textos y Embeddings de Texto\n",
        "\n",
        "1. Libros y Recursos sobre Procesamiento de Lenguaje Natural (NLP) y Detección de Anomalías en Textos\n",
        "\"Procesamiento de Lenguaje Natural con Python\" de Steven Bird, Ewan Klein, y Edward Loper\n",
        "\n",
        "Este libro es una referencia clásica en el procesamiento de lenguaje natural (NLP) con Python. Aunque no aborda directamente la detección de anomalías en textos, enseña cómo procesar texto, lo cual es crucial para trabajar con embeddings y aplicar análisis de similitud o distancias como la coseno para detectar anomalías en textos. Puedes usar este libro para entender cómo preparar y trabajar con el texto antes de aplicar modelos de embeddings.\n",
        "\n",
        "\"Análisis de Sentimiento y Detección de Anomalías en Texto con Python\" (Tutorial en español, de Medium o blogs especializados)\n",
        "\n",
        "Tutoriales enfocados en la aplicación de técnicas de NLP para detectar anomalías en texto. Este tipo de tutoriales suelen ser muy útiles para comprender cómo utilizar modelos de embeddings y cómo medir la similitud entre textos para detectar posibles anomalías, basándose en distancias coseno, entre otras.\n",
        "\n",
        "Videos\n",
        "\n",
        "\"Detección de Anomalías con Python - Tutorial Completo\" (Canal: Python en Español)\n",
        "\n",
        "Descripción: Este tutorial cubre los principios básicos de la detección de anomalías en datos usando Python. Aunque se centra en otros tipos de datos, los conceptos son aplicables al análisis de texto. El video incluye técnicas de modelos estadísticos y aprendizaje automático para identificar anomalías.\n",
        "\n",
        "Enlace: YouTube\n",
        "\n",
        "Relevancia: Aunque se centra en otros tipos de datos, los métodos explicados para la detección de anomalías pueden adaptarse para textos, lo que te permitirá aplicar estos conceptos a tu proyecto.\n",
        "\n",
        "\n",
        "\"Cómo calcular la Distancia Coseno con Python\" (Canal: Machine Learning en Español)\n",
        "\n",
        "Descripción: Este video ofrece una introducción a la distancia coseno, un método esencial para medir la similitud entre vectores. Es particularmente útil cuando trabajas con embeddings de texto y quieres detectar qué tan similares son los textos entre sí.\n",
        "\n",
        "Enlace: YouTube\n",
        "\n",
        "Relevancia: Directamente aplicable a tu proyecto, ya que la distancia coseno es una métrica clave para comparar textos y detectar anomalías."
      ],
      "metadata": {
        "id": "lhYRuOLpzF8X"
      }
    }
  ],
  "metadata": {
    "colab": {
      "provenance": [],
      "authorship_tag": "ABX9TyNPW4XGPH6Z8noDtnWMZ1IQ",
      "include_colab_link": true
    },
    "kernelspec": {
      "display_name": "Python 3",
      "name": "python3"
    },
    "language_info": {
      "name": "python"
    }
  },
  "nbformat": 4,
  "nbformat_minor": 0
}